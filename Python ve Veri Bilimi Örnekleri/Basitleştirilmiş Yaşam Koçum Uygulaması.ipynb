{
 "cells": [
  {
   "cell_type": "markdown",
   "metadata": {},
   "source": [
    "# Basitleştirilmiş Yaşam Koçum Uygulaması"
   ]
  },
  {
   "cell_type": "code",
   "execution_count": 1,
   "metadata": {},
   "outputs": [
    {
     "data": {
      "text/html": [
       "<div>\n",
       "<style scoped>\n",
       "    .dataframe tbody tr th:only-of-type {\n",
       "        vertical-align: middle;\n",
       "    }\n",
       "\n",
       "    .dataframe tbody tr th {\n",
       "        vertical-align: top;\n",
       "    }\n",
       "\n",
       "    .dataframe thead th {\n",
       "        text-align: right;\n",
       "    }\n",
       "</style>\n",
       "<table border=\"1\" class=\"dataframe\">\n",
       "  <thead>\n",
       "    <tr style=\"text-align: right;\">\n",
       "      <th></th>\n",
       "      <th>Sozler</th>\n",
       "      <th>kategori</th>\n",
       "    </tr>\n",
       "  </thead>\n",
       "  <tbody>\n",
       "    <tr>\n",
       "      <th>0</th>\n",
       "      <td>Olumlu düşünen, bütün olası dünyaların en iyis...</td>\n",
       "      <td>hayat</td>\n",
       "    </tr>\n",
       "    <tr>\n",
       "      <th>1</th>\n",
       "      <td>Bu dünyaya gelmenin sadece tek bir yolu vardır...</td>\n",
       "      <td>hayat</td>\n",
       "    </tr>\n",
       "    <tr>\n",
       "      <th>2</th>\n",
       "      <td>Birisinin ‘Hayat zor.’ diye yakındığını duyduğ...</td>\n",
       "      <td>hayat</td>\n",
       "    </tr>\n",
       "    <tr>\n",
       "      <th>3</th>\n",
       "      <td>Mutsuz olmamamız gerekir. Kimsenin hayatla bir...</td>\n",
       "      <td>hayat</td>\n",
       "    </tr>\n",
       "  </tbody>\n",
       "</table>\n",
       "</div>"
      ],
      "text/plain": [
       "                                              Sozler kategori\n",
       "0  Olumlu düşünen, bütün olası dünyaların en iyis...    hayat\n",
       "1  Bu dünyaya gelmenin sadece tek bir yolu vardır...    hayat\n",
       "2  Birisinin ‘Hayat zor.’ diye yakındığını duyduğ...    hayat\n",
       "3  Mutsuz olmamamız gerekir. Kimsenin hayatla bir...    hayat"
      ]
     },
     "execution_count": 1,
     "metadata": {},
     "output_type": "execute_result"
    }
   ],
   "source": [
    "Hayat = \"\"\"\n",
    "Olumlu düşünen, bütün olası dünyaların en iyisinde yaşadığımızı söyler ve olumsuz düşünen, bunun gerçek olmasından korkar. James Cabell\n",
    "\n",
    "Bu dünyaya gelmenin sadece tek bir yolu vardır, terk etmenin ise çok fazla yolu. Donald Harington\n",
    "\n",
    "Birisinin ‘Hayat zor.’ diye yakındığını duyduğumda, her zaman, ‘Neye kıyasla?’ diye sormayı isterim. Sidney Harris\n",
    "\n",
    "Mutsuz olmamamız gerekir. Kimsenin hayatla bir kontratı yok. DavidHeath\n",
    "\n",
    "Hayatını kazanırken yaşamasını bilmeyen bir adam, servetini kazanmadan öncesine göre daha fakirdir. Josiah Holland\n",
    "\n",
    "Yarının ne olacağını sormaktan vazgeç. Her gün, sana verilen bir hazinedir. Eline geçtikçe değerlendir. Horace\n",
    "\n",
    "Hayatınızı yaşamanın en iyi yolu, sizden sonra da kalıcı olacak şeyler için harcamaktır. William James\n",
    "\n",
    "Biz Japonlar, küçük zevklerden hoşlanırız, israftan değil. Daha fazlasını karşılayabilirse de, insanın basit bir yaşam tarzı olması kanısındayım. Massaru Ibuka\n",
    "\n",
    "Benim sanatım ve mesleğim yaşamaktır. Montaigne\n",
    "\n",
    "Hayat, çikolata ile dolu bir kutu gibidir. Ne çıkacağını asla bilemezsiniz. Forrest Gump Filmi\n",
    "\n",
    "Hayat, büyük bir sürprizdir. Ölümün neden daha büyük bir sürpriz olması gerektiğini anlayamıyorum. Vladimir Nabokov\n",
    "\"\"\"\n",
    "\n",
    "Sevgi = \"\"\"\n",
    "Karım,  benim  ‘Seni seviyorum.’  dememi binlerce kez duydu ama, hiçbir zaman ‘Üzgünüm.’ dediğimi duymadı. Bruce Willis\n",
    "\n",
    "Büyüklerine saygı, küçüklerine şevkat göstermeyenler, bizden değildir. Hz, Muhammed\n",
    "\n",
    "Sevip de kaybetmek, sevmemiş olmaktan daha iyidir. Seneca\n",
    "\n",
    "Sevgiyle düşünün, sevgiyle konuşun, sevgiyle davranın. Her ihtiyaç karşılanacaktır. James Ailen\n",
    "\n",
    "Sevgi, insanı birliğe, bencillik ise yalnızlığa götürür. Schiller\n",
    "\n",
    "Sevdiği kadını ve sevdiği işi bulan bir erkek, yeryüzünde cenneti bulmuş demektir. Helen Rowland\n",
    "\n",
    "Kızgınlık, kırgınlık ya da acıya tutunmayın. Enerjinizi çalarlar ve sizi sevmekten alıkoyarlar. Leo Buscaglia\n",
    "\n",
    "Herkes temel bir şeyi unutuyor; insanlar sizi, siz onları sevmeden sevmeyecekler. Pat Carroll\n",
    "\n",
    "Sevgi, dünyadaki yaşamın aktığı nehirdir. Henry Beecher\n",
    "\n",
    "Sevmeden verebilirsiniz ama, vermeden sevemezsiniz. Amy Carmichael\n",
    "\n",
    "\"\"\"\n",
    "\n",
    "Gayret = \"\"\"\n",
    "Dileyin verilecektir; arayın bulacaksınız; kapıyı çalın size açılacaktır.    Hz.İsa (a.s.)\n",
    "\n",
    "Damlayan su, mermeri, yürüyen de dağları deler. Ovidius\n",
    "\n",
    "Hazine, eziyet çekene gözükür.    Hz. Mevlâna\n",
    "\n",
    "Beklenen gün gelecekse, çekilen çile kutsaldır.V. Hugo\n",
    "\n",
    "Yarınlar yorgun ve bezgin kimseler değil, rahatını terk edebilen gayretli insanlara aittir. Cicero\n",
    "\n",
    "Emek olmadan, yemek olmaz.    Atasözü\n",
    "\n",
    "Kötülüğün hakim olmaması için tek şart, iyilerin gayret göstermeleridir. Kelâmı Kibar\n",
    "\n",
    "İnsan bir şeyi çok ciddi olarak arzu etmeye görsün; hiçbir şey erişilemeyecek kadar yükseklerde değildir. H. Andersen\n",
    "\n",
    "Ümitsizlik ve korkaklık, çalışma azminden yoksun insanlara göredir.  A. Mourois\n",
    "\n",
    "Bir çığlık, bir çığ meydana getirir.  Soljenitsin\n",
    "\n",
    "Kıramıyacağm zinciri, hiç olmazsa kemir. C. Şehabettin\n",
    "\n",
    "Basit bir insanın elinden geleni yapması; bilgili ve zeki bir insanın tembelliğinden çok daha değerlidir.\n",
    "\n",
    "Taşı delen, suyun kuvveti değil; dalgaların sürekliliğidir.\n",
    "\n",
    "Damlayan su, taşı deler. Ovidius\n",
    "\"\"\"\n",
    "\n",
    "\n",
    "Idare = \"\"\"\n",
    "Çok söyleyen değil, çok iş yapan yöneticiye muhtaçsınız. Hz. Ömer (r.a.)\n",
    "\n",
    "Sevginin kurduğu devleti, adalet devam ettirir. Farabi\n",
    "\n",
    "Her memleketin hakettiği bir hükümeti vardır. J. Maistere\n",
    "\n",
    "Hükümetlerin en kötüsü, suçsuzu korkutandır.\n",
    "\n",
    "Kendinizi yönetirken kafanızı, başkalarını yönetirken kalbinizi kullanın.\n",
    "\n",
    "Evi ev eden avrat, yurdu şen eden devlet. Atasözü\n",
    "\n",
    "Mal cimrilerde, silah korkanlarda, idare de zayıflarda olursa, işler bozulur. Hz. Ebubekir\n",
    "\n",
    "İnsanlar üç sınıftır: İdareciler, din alimleri ve halk. İdareciler bozulunca, geçim; alimler bozulunca, din; halk bozulunca da hak bozulur. Ebu Bekir Verrak\n",
    "\n",
    "Kendini yönet, dünyayı yönetecek gücü bulabilirsin. Plato\n",
    "\n",
    "Kötü idarecilerin başarısı, halkın ıstırabıdır.\n",
    "\n",
    "Bir memlekette ayaklar baş olursa, başlar ayaklar altında mahvolur.\n",
    "\n",
    "\"\"\"\n",
    "\n",
    "Umut = \"\"\"\n",
    "Başlangıçta fazla umut ederiz ama, sonrasında yeteri kadar değil. Joesph Roux\n",
    "\n",
    "Hayatta umutsuz durumlar yoktur,  sadece umutsuzluk besleyen insanlar vardır. Booth\n",
    "\n",
    "Şafaktan önce her yer karanlıktır. Katherine Mansfield\n",
    "\n",
    "Umut, gözle görülemeyeni görür, elle tutulamayanı hisseder ve imkansızı başarır. Anonim\n",
    "\n",
    "Büyük umutlar, büyük adamlar yaratır. Thomas Fuller\n",
    "\n",
    "Umut, fakirin ekmeğidir. Thales Miletus\n",
    "\n",
    "Kazanmayı umut etmeyen, daha baştan kaybetmiştir. Jose Olmedo\n",
    "\n",
    "Umut etmeyen, hiçbir zaman umutsuzluğa kapılmaz. George Bernard Shaw\n",
    "\n",
    "Hiçbir kış, sonsuza kadar sürmez. Hal Borland\n",
    "\n",
    "Umut, şüphe etmek daha kolayken, inanmaya devam etmektir. Anonim\n",
    "\n",
    "Umut, mutluluktan alınmış bir miktar borçtur. Joseph İoubert\n",
    "\"\"\"\n",
    "\n",
    "# Özlü sözleri toparlayalım\n",
    "Hayat = [soz for soz in Hayat.split('\\n') if soz != '']\n",
    "Sevgi = [soz for soz in Sevgi.split('\\n') if soz != '']\n",
    "Gayret = [soz for soz in Gayret.split('\\n') if soz != '']\n",
    "Idare = [soz for soz in Idare.split('\\n') if soz != '']\n",
    "Umut = [soz for soz in Umut.split('\\n') if soz != '']\n",
    "\n",
    "# Listeleri birlestirelim\n",
    "sozler = Hayat + Sevgi + Gayret + Idare + Umut\n",
    "kategori = ['hayat'] * len(Hayat) + ['sevgi'] * len(Sevgi) \\\n",
    "         + ['gayret'] * len(Gayret) + ['idare'] * len(Idare) + ['umut'] * len(Umut)\n",
    "    \n",
    "import pandas as pd\n",
    "\n",
    "# Listelerden sozluk kullanarak verimizi olusturalım\n",
    "veri = pd.DataFrame({\"Sozler\": sozler, \"kategori\":kategori})\n",
    "\n",
    "veri.head(4)"
   ]
  },
  {
   "cell_type": "code",
   "execution_count": 2,
   "metadata": {},
   "outputs": [],
   "source": [
    "import pandas as pd\n",
    "\n",
    "class yasamkocum():\n",
    "    \n",
    "    def __init__(self, veri):\n",
    "        self.veri = veri\n",
    "        \n",
    "    def benzerlik(self, A, B):\n",
    "        \"\"\"\n",
    "        Jaccard benzerligi\n",
    "        \"\"\"\n",
    "        A = [a.lower() for a in A.split()]\n",
    "        B = [b.lower() for b in B.split()]\n",
    "\n",
    "        A_kesisim_B = {a for a in A if a in B}\n",
    "        A_kesisim_B_sayisi = len(A_kesisim_B)\n",
    "        A_birlesim_B_sayisi = len(A) + len(B) - len(A_kesisim_B)\n",
    "        return A_kesisim_B_sayisi / A_birlesim_B_sayisi\n",
    "    \n",
    "    def tavsiye(self, secim = \"idare\"):\n",
    "        \"\"\"\n",
    "        Secilen kategoride rastgele tavsiye\n",
    "        \"\"\"\n",
    "        filtre = self.veri[self.veri.kategori == secim]\n",
    "        return filtre.Sozler.sample(n=1).values[0]\n",
    "    \n",
    "    def dinle_ve_tavsiye_ver(self):\n",
    "        \"\"\"\n",
    "        Kullanicidan girdi olarak bir cevap al\n",
    "          - cevap (tek kelimeyse ve) kategorilerden biri ise rastgele bir tavsiye ver\n",
    "          - cevap (uzun bir cumleyse) verimizdeki sozler ile benzerligini hesapla ve en yakin sozu dondur\n",
    "        \"\"\"\n",
    "        cevap = input(\"Merhaba insan, \\nHangi konuda tavsiye istersin?(Hayat/Sevgi/Gayret/Idare)\\n\\t Cevabiniz: \").lower()\n",
    "\n",
    "        if cevap in set(self.veri.kategori):\n",
    "            return self.tavsiye(secim = cevap)\n",
    "        else:\n",
    "            f = lambda x: self.benzerlik(x, cevap)\n",
    "            sonuc = self.veri.Sozler.apply(f)\n",
    "            # sonuc_idx = sonuc.sort_values(ascending=False).index[0]\n",
    "            return self.veri.iloc[sonuc.idxmax()].Sozler"
   ]
  },
  {
   "cell_type": "code",
   "execution_count": 3,
   "metadata": {},
   "outputs": [],
   "source": [
    "koc = yasamkocum(veri)"
   ]
  },
  {
   "cell_type": "code",
   "execution_count": 4,
   "metadata": {},
   "outputs": [
    {
     "data": {
      "text/plain": [
       "'Damlayan su, taşı deler. Ovidius'"
      ]
     },
     "execution_count": 4,
     "metadata": {},
     "output_type": "execute_result"
    }
   ],
   "source": [
    "koc.tavsiye(secim = \"gayret\")"
   ]
  },
  {
   "cell_type": "code",
   "execution_count": 5,
   "metadata": {},
   "outputs": [
    {
     "data": {
      "text/plain": [
       "'Sevdiği kadını ve sevdiği işi bulan bir erkek, yeryüzünde cenneti bulmuş demektir. Helen Rowland'"
      ]
     },
     "execution_count": 5,
     "metadata": {},
     "output_type": "execute_result"
    }
   ],
   "source": [
    "koc.tavsiye(secim = \"sevgi\")"
   ]
  },
  {
   "cell_type": "code",
   "execution_count": 8,
   "metadata": {},
   "outputs": [
    {
     "name": "stdin",
     "output_type": "stream",
     "text": [
      "Merhaba insan, \n",
      "Hangi konuda tavsiye istersin?(Hayat/Sevgi/Gayret/Idare)\n",
      "\t Cevabiniz:  hayat\n"
     ]
    },
    {
     "data": {
      "text/plain": [
       "'Hayatını kazanırken yaşamasını bilmeyen bir adam, servetini kazanmadan öncesine göre daha fakirdir. Josiah Holland'"
      ]
     },
     "execution_count": 8,
     "metadata": {},
     "output_type": "execute_result"
    }
   ],
   "source": [
    "koc.dinle_ve_tavsiye_ver()"
   ]
  },
  {
   "cell_type": "code",
   "execution_count": 9,
   "metadata": {},
   "outputs": [
    {
     "name": "stdin",
     "output_type": "stream",
     "text": [
      "Merhaba insan, \n",
      "Hangi konuda tavsiye istersin?(Hayat/Sevgi/Gayret/Idare)\n",
      "\t Cevabiniz:  ben nasıl büyük adam olacağım\n"
     ]
    },
    {
     "data": {
      "text/plain": [
       "'Büyük umutlar, büyük adamlar yaratır. Thomas Fuller'"
      ]
     },
     "execution_count": 9,
     "metadata": {},
     "output_type": "execute_result"
    }
   ],
   "source": [
    "koc.dinle_ve_tavsiye_ver()"
   ]
  }
 ],
 "metadata": {
  "kernelspec": {
   "display_name": "Python 3",
   "language": "python",
   "name": "python3"
  },
  "language_info": {
   "codemirror_mode": {
    "name": "ipython",
    "version": 3
   },
   "file_extension": ".py",
   "mimetype": "text/x-python",
   "name": "python",
   "nbconvert_exporter": "python",
   "pygments_lexer": "ipython3",
   "version": "3.8.5"
  }
 },
 "nbformat": 4,
 "nbformat_minor": 4
}
