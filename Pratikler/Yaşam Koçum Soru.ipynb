{
 "cells": [
  {
   "cell_type": "markdown",
   "metadata": {},
   "source": [
    "# Yapilması Gerekenler\n",
    "## 1-  Veri Hazirligi\n",
    "- Aşağıdaki uzun metinlerden özlü söz listeleri oluşturunuz (ipucu: `split('\\n')`).\n",
    "- Listeleri birleştirip, söz ve kategori listesi oluştur\n",
    "- Sözlük (dictionary) oluşturunuz (ipucu: `{\"Sozler\": sozler, \"kategori\":kategori}`)\n",
    "- Listelerden Sözlük kullanarak veri çerçevesi (data frame) oluşturunuz\n",
    "\n",
    "![](sozluk.png)"
   ]
  },
  {
   "cell_type": "markdown",
   "metadata": {},
   "source": [
    "## 2- Fonksiyonlaştırma\n",
    "\n",
    "- Algoritmanın (data frame'den) Rastgele (bir sözü) Tavsiye Vermesi\n",
    "- Algoritmanın Seçilen Kategoride Rastgele Tavsiye Vermesi\n",
    "- Jaccard Benzerligi ile Kelimene Yakın Tavsiyeyi Vermesi"
   ]
  },
  {
   "cell_type": "markdown",
   "metadata": {},
   "source": [
    "$$Jaccard(A,B)=\\frac{|A \\cap  B|}{|A \\cup  B|}$$"
   ]
  },
  {
   "cell_type": "markdown",
   "metadata": {},
   "source": [
    "## 3- Yaşam ile ilgili tavsiyesi veren sistemi tamamlama\n",
    "\n",
    "- Kullanıcıdan Girdi olarak bir cevap al(ipucu : `cevap=input(\"Merhaba insan ne istiyorsun?\")`)\n",
    "- Kullanıcı Cevabı Tek Kelimeyse ve Bilinen Kategorilerden Biri İse \n",
    "    - Rastgele Bir Tavsiye Ver.\n",
    "- Kullanıcı Cevabı Uzun Bir Cümleyse ve Verimizdeki Sözler ile Jaccard Benzerliğini Hesapla\n",
    "    - En Yakın Sözü Döndür.\n",
    "\n",
    "## 4- Örnek: Yaşam Koçum Uygulaması\n",
    "![](tavsiye.png)"
   ]
  },
  {
   "cell_type": "markdown",
   "metadata": {},
   "source": [
    "**Aşağıda sizin için belli veri kümesi hazırladık, yukarıda verdiğimiz ipuçlarına göre çalışma kodlarını yazmanızı bekliyoruz. Başarılar Dileriz**"
   ]
  },
  {
   "cell_type": "code",
   "execution_count": 1,
   "metadata": {},
   "outputs": [],
   "source": [
    "Hayat = \"\"\"\n",
    "Olumlu düşünen, bütün olası dünyaların en iyisinde yaşadığımızı söyler ve olumsuz düşünen, bunun gerçek olmasından korkar. James Cabell\n",
    "\n",
    "Bu dünyaya gelmenin sadece tek bir yolu vardır, terk etmenin ise çok fazla yolu. Donald Harington\n",
    "\n",
    "Birisinin ‘Hayat zor.’ diye yakındığını duyduğumda, her zaman, ‘Neye kıyasla?’ diye sormayı isterim. Sidney Harris\n",
    "\n",
    "Mutsuz olmamamız gerekir. Kimsenin hayatla bir kontratı yok. DavidHeath\n",
    "\n",
    "Hayatını kazanırken yaşamasını bilmeyen bir adam, servetini kazanmadan öncesine göre daha fakirdir. Josiah Holland\n",
    "\n",
    "Yarının ne olacağını sormaktan vazgeç. Her gün, sana verilen bir hazinedir. Eline geçtikçe değerlendir. Horace\n",
    "\n",
    "Hayatınızı yaşamanın en iyi yolu, sizden sonra da kalıcı olacak şeyler için harcamaktır. William James\n",
    "\n",
    "Biz Japonlar, küçük zevklerden hoşlanırız, israftan değil. Daha fazlasını karşılayabilirse de, insanın basit bir yaşam tarzı olması kanısındayım. Massaru Ibuka\n",
    "\n",
    "Benim sanatım ve mesleğim yaşamaktır. Montaigne\n",
    "\n",
    "Hayat, çikolata ile dolu bir kutu gibidir. Ne çıkacağını asla bilemezsiniz. Forrest Gump Filmi\n",
    "\n",
    "Hayat, büyük bir sürprizdir. Ölümün neden daha büyük bir sürpriz olması gerektiğini anlayamıyorum. Vladimir Nabokov\n",
    "\"\"\""
   ]
  },
  {
   "cell_type": "code",
   "execution_count": 2,
   "metadata": {},
   "outputs": [],
   "source": [
    "Sevgi = \"\"\"\n",
    "Karım,  benim  ‘Seni seviyorum.’  dememi binlerce kez duydu ama, hiçbir zaman ‘Üzgünüm.’ dediğimi duymadı. Bruce Willis\n",
    "\n",
    "Büyüklerine saygı, küçüklerine şevkat göstermeyenler, bizden değildir. Hz, Muhammed\n",
    "\n",
    "Sevip de kaybetmek, sevmemiş olmaktan daha iyidir. Seneca\n",
    "\n",
    "Sevgiyle düşünün, sevgiyle konuşun, sevgiyle davranın. Her ihtiyaç karşılanacaktır. James Ailen\n",
    "\n",
    "Sevgi, insanı birliğe, bencillik ise yalnızlığa götürür. Schiller\n",
    "\n",
    "Sevdiği kadını ve sevdiği işi bulan bir erkek, yeryüzünde cenneti bulmuş demektir. Helen Rowland\n",
    "\n",
    "Kızgınlık, kırgınlık ya da acıya tutunmayın. Enerjinizi çalarlar ve sizi sevmekten alıkoyarlar. Leo Buscaglia\n",
    "\n",
    "Herkes temel bir şeyi unutuyor; insanlar sizi, siz onları sevmeden sevmeyecekler. Pat Carroll\n",
    "\n",
    "Sevgi, dünyadaki yaşamın aktığı nehirdir. Henry Beecher\n",
    "\n",
    "Sevmeden verebilirsiniz ama, vermeden sevemezsiniz. Amy Carmichael\n",
    "\n",
    "\"\"\""
   ]
  },
  {
   "cell_type": "code",
   "execution_count": 3,
   "metadata": {},
   "outputs": [],
   "source": [
    "Gayret = \"\"\"\n",
    "Dileyin verilecektir; arayın bulacaksınız; kapıyı çalın size açılacaktır.    Hz.İsa (a.s.)\n",
    "\n",
    "Damlayan su, mermeri, yürüyen de dağları deler. Ovidius\n",
    "\n",
    "Hazine, eziyet çekene gözükür.    Hz. Mevlâna\n",
    "\n",
    "Beklenen gün gelecekse, çekilen çile kutsaldır.V. Hugo\n",
    "\n",
    "Yarınlar yorgun ve bezgin kimseler değil, rahatını terk edebilen gayretli insanlara aittir. Cicero\n",
    "\n",
    "Emek olmadan, yemek olmaz.    Atasözü\n",
    "\n",
    "Kötülüğün hakim olmaması için tek şart, iyilerin gayret göstermeleridir. Kelâmı Kibar\n",
    "\n",
    "İnsan bir şeyi çok ciddi olarak arzu etmeye görsün; hiçbir şey erişilemeyecek kadar yükseklerde değildir. H. Andersen\n",
    "\n",
    "Ümitsizlik ve korkaklık, çalışma azminden yoksun insanlara göredir.  A. Mourois\n",
    "\n",
    "Bir çığlık, bir çığ meydana getirir.  Soljenitsin\n",
    "\n",
    "Kıramıyacağm zinciri, hiç olmazsa kemir. C. Şehabettin\n",
    "\n",
    "Basit bir insanın elinden geleni yapması; bilgili ve zeki bir insanın tembelliğinden çok daha değerlidir.\n",
    "\n",
    "Taşı delen, suyun kuvveti değil; dalgaların sürekliliğidir.\n",
    "\n",
    "Damlayan su, taşı deler. Ovidius\n",
    "\"\"\""
   ]
  },
  {
   "cell_type": "code",
   "execution_count": 4,
   "metadata": {},
   "outputs": [],
   "source": [
    "Umut = \"\"\"\n",
    "Başlangıçta fazla umut ederiz ama, sonrasında yeteri kadar değil. Joesph Roux\n",
    "\n",
    "Hayatta umutsuz durumlar yoktur,  sadece umutsuzluk besleyen insanlar vardır. Booth\n",
    "\n",
    "Şafaktan önce her yer karanlıktır. Katherine Mansfield\n",
    "\n",
    "Umut, gözle görülemeyeni görür, elle tutulamayanı hisseder ve imkansızı başarır. Anonim\n",
    "\n",
    "Büyük umutlar, büyük adamlar yaratır. Thomas Fuller\n",
    "\n",
    "Umut, fakirin ekmeğidir. Thales Miletus\n",
    "\n",
    "Kazanmayı umut etmeyen, daha baştan kaybetmiştir. Jose Olmedo\n",
    "\n",
    "Umut etmeyen, hiçbir zaman umutsuzluğa kapılmaz. George Bernard Shaw\n",
    "\n",
    "Hiçbir kış, sonsuza kadar sürmez. Hal Borland\n",
    "\n",
    "Umut, şüphe etmek daha kolayken, inanmaya devam etmektir. Anonim\n",
    "\n",
    "Umut, mutluluktan alınmış bir miktar borçtur. Joseph İoubert\n",
    "\"\"\""
   ]
  },
  {
   "cell_type": "code",
   "execution_count": 1,
   "metadata": {},
   "outputs": [],
   "source": [
    "Idare = \"\"\"\n",
    "Çok söyleyen değil, çok iş yapan yöneticiye muhtaçsınız. Hz. Ömer (r.a.)\n",
    "\n",
    "Sevginin kurduğu devleti, adalet devam ettirir. Farabi\n",
    "\n",
    "Her memleketin hakettiği bir hükümeti vardır. J. Maistere\n",
    "\n",
    "Hükümetlerin en kötüsü, suçsuzu korkutandır.\n",
    "\n",
    "Kendinizi yönetirken kafanızı, başkalarını yönetirken kalbinizi kullanın.\n",
    "\n",
    "Evi ev eden avrat, yurdu şen eden devlet. Atasözü\n",
    "\n",
    "Mal cimrilerde, silah korkanlarda, idare de zayıflarda olursa, işler bozulur. Hz. Ebubekir\n",
    "\n",
    "İnsanlar üç sınıftır: İdareciler, din alimleri ve halk. İdareciler bozulunca, geçim; alimler bozulunca, din; halk bozulunca da hak bozulur. Ebu Bekir Verrak\n",
    "\n",
    "Kendini yönet, dünyayı yönetecek gücü bulabilirsin. Plato\n",
    "\n",
    "Kötü idarecilerin başarısı, halkın ıstırabıdır.\n",
    "\n",
    "Bir memlekette ayaklar baş olursa, başlar ayaklar altında mahvolur.\n",
    "\n",
    "\"\"\""
   ]
  },
  {
   "cell_type": "code",
   "execution_count": 2,
   "metadata": {},
   "outputs": [
    {
     "name": "stdout",
     "output_type": "stream",
     "text": [
      "Kolay gelsin\n"
     ]
    }
   ],
   "source": [
    "print(\"Kolay gelsin\")"
   ]
  },
  {
   "cell_type": "code",
   "execution_count": null,
   "metadata": {},
   "outputs": [],
   "source": []
  }
 ],
 "metadata": {
  "kernelspec": {
   "display_name": "Python 3",
   "language": "python",
   "name": "python3"
  },
  "language_info": {
   "codemirror_mode": {
    "name": "ipython",
    "version": 3
   },
   "file_extension": ".py",
   "mimetype": "text/x-python",
   "name": "python",
   "nbconvert_exporter": "python",
   "pygments_lexer": "ipython3",
   "version": "3.8.5"
  }
 },
 "nbformat": 4,
 "nbformat_minor": 4
}
