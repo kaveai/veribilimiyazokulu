{
 "cells": [
  {
   "cell_type": "markdown",
   "metadata": {},
   "source": [
    "# Twitter üzerinde Duygu Analizi\n",
    "Yunus Emre Gündoğmuş - 6 Eylül 2021\n",
    "\n",
    "### Referanslar\n",
    "- [How to Scrape Tweets From Twitter](https://towardsdatascience.com/how-to-scrape-tweets-from-twitter-59287e20f0f1)\n",
    "- [Savaş Yıldırım - Bert-base Turkish Sentiment Model](https://huggingface.co/savasy/bert-base-turkish-sentiment-cased)"
   ]
  },
  {
   "cell_type": "markdown",
   "metadata": {},
   "source": [
    "### Kütüphalerin İçeri Alınması"
   ]
  },
  {
   "cell_type": "code",
   "execution_count": null,
   "metadata": {},
   "outputs": [],
   "source": [
    "!pip install transformers\n",
    "!pip install tweepy\n",
    "!pip install tqdm"
   ]
  },
  {
   "cell_type": "code",
   "execution_count": 1,
   "metadata": {
    "ExecuteTime": {
     "end_time": "2020-05-21T13:24:11.070200Z",
     "start_time": "2020-05-21T13:23:21.991705Z"
    }
   },
   "outputs": [],
   "source": [
    "# Twitter API\n",
    "import tweepy\n",
    "\n",
    "# Data Manipulation\n",
    "from tqdm import tqdm\n",
    "import pandas as pd\n",
    "import numpy as np\n",
    "import time\n",
    "\n",
    "# Bert Model\n",
    "from transformers import AutoModelForSequenceClassification, AutoTokenizer, pipeline"
   ]
  },
  {
   "cell_type": "code",
   "execution_count": null,
   "metadata": {
    "ExecuteTime": {
     "end_time": "2020-05-21T13:26:40.450443Z",
     "start_time": "2020-05-21T13:26:40.439443Z"
    }
   },
   "outputs": [],
   "source": [
    "consumer_keys, consumer_secrets, access_tokens, access_token_secrets"
   ]
  },
  {
   "cell_type": "markdown",
   "metadata": {},
   "source": [
    "### Twitter API Ayarlarının Yapılması"
   ]
  },
  {
   "cell_type": "code",
   "execution_count": 3,
   "metadata": {
    "ExecuteTime": {
     "end_time": "2020-05-21T13:24:49.301322Z",
     "start_time": "2020-05-21T13:24:49.293330Z"
    }
   },
   "outputs": [],
   "source": [
    "# API için Keyler\n",
    "# API link: https://developer.twitter.com/en/apps\n",
    "\n",
    "consumer_key = \"xxxx\"\n",
    "consumer_secret = \"xxxx\"\n",
    "access_token = \"xxxx\"\n",
    "access_token_secret = \"xxx\"\n",
    "\n",
    "auth = tweepy.OAuthHandler(consumer_key, consumer_secret)\n",
    "auth.set_access_token(access_token, access_token_secret)\n",
    "api = tweepy.API(auth,wait_on_rate_limit=True)"
   ]
  },
  {
   "cell_type": "markdown",
   "metadata": {},
   "source": [
    "### Korona Anahtar kelimesindeki 100 tweet'in çekilmesi"
   ]
  },
  {
   "cell_type": "code",
   "execution_count": 4,
   "metadata": {
    "ExecuteTime": {
     "end_time": "2020-05-21T13:24:56.301223Z",
     "start_time": "2020-05-21T13:24:54.931490Z"
    }
   },
   "outputs": [],
   "source": [
    "tweets_list = []\n",
    "text_query = 'Korona'\n",
    "count = 100\n",
    "\n",
    "for tweet in api.search(q=text_query, count=count, lang='tr-tr'):\n",
    "    tweets_list.append((tweet.created_at,tweet.id,tweet.text))"
   ]
  },
  {
   "cell_type": "code",
   "execution_count": 5,
   "metadata": {
    "ExecuteTime": {
     "end_time": "2020-05-21T13:24:56.475461Z",
     "start_time": "2020-05-21T13:24:56.352461Z"
    }
   },
   "outputs": [
    {
     "data": {
      "text/html": [
       "<div>\n",
       "<style scoped>\n",
       "    .dataframe tbody tr th:only-of-type {\n",
       "        vertical-align: middle;\n",
       "    }\n",
       "\n",
       "    .dataframe tbody tr th {\n",
       "        vertical-align: top;\n",
       "    }\n",
       "\n",
       "    .dataframe thead th {\n",
       "        text-align: right;\n",
       "    }\n",
       "</style>\n",
       "<table border=\"1\" class=\"dataframe\">\n",
       "  <thead>\n",
       "    <tr style=\"text-align: right;\">\n",
       "      <th></th>\n",
       "      <th>Tarih</th>\n",
       "      <th>Tweet_id</th>\n",
       "      <th>Text</th>\n",
       "    </tr>\n",
       "  </thead>\n",
       "  <tbody>\n",
       "    <tr>\n",
       "      <td>0</td>\n",
       "      <td>2020-05-21 13:24:37</td>\n",
       "      <td>1263460690444062722</td>\n",
       "      <td>RT @trdusuncekulubu: KORONA VİRÜS FIRSAT MI?\\n...</td>\n",
       "    </tr>\n",
       "    <tr>\n",
       "      <td>1</td>\n",
       "      <td>2020-05-21 13:24:34</td>\n",
       "      <td>1263460678800748545</td>\n",
       "      <td>RT @1Kirazkizi: Bir ramazanı daha bitirdiniz. ...</td>\n",
       "    </tr>\n",
       "    <tr>\n",
       "      <td>2</td>\n",
       "      <td>2020-05-21 13:24:32</td>\n",
       "      <td>1263460671146123266</td>\n",
       "      <td>HDP milletvekili Dilşat Canbaz, TJA, TUHAY-DER...</td>\n",
       "    </tr>\n",
       "    <tr>\n",
       "      <td>3</td>\n",
       "      <td>2020-05-21 13:24:23</td>\n",
       "      <td>1263460630809448451</td>\n",
       "      <td>@bra716 @HBC53 Korona seni çok tehlikeli bi ha...</td>\n",
       "    </tr>\n",
       "    <tr>\n",
       "      <td>4</td>\n",
       "      <td>2020-05-21 13:24:13</td>\n",
       "      <td>1263460591815065601</td>\n",
       "      <td>Dr. İbrahim Uslu: ❝Korona süreciyle birlikte t...</td>\n",
       "    </tr>\n",
       "  </tbody>\n",
       "</table>\n",
       "</div>"
      ],
      "text/plain": [
       "                Tarih             Tweet_id  \\\n",
       "0 2020-05-21 13:24:37  1263460690444062722   \n",
       "1 2020-05-21 13:24:34  1263460678800748545   \n",
       "2 2020-05-21 13:24:32  1263460671146123266   \n",
       "3 2020-05-21 13:24:23  1263460630809448451   \n",
       "4 2020-05-21 13:24:13  1263460591815065601   \n",
       "\n",
       "                                                Text  \n",
       "0  RT @trdusuncekulubu: KORONA VİRÜS FIRSAT MI?\\n...  \n",
       "1  RT @1Kirazkizi: Bir ramazanı daha bitirdiniz. ...  \n",
       "2  HDP milletvekili Dilşat Canbaz, TJA, TUHAY-DER...  \n",
       "3  @bra716 @HBC53 Korona seni çok tehlikeli bi ha...  \n",
       "4  Dr. İbrahim Uslu: ❝Korona süreciyle birlikte t...  "
      ]
     },
     "execution_count": 5,
     "metadata": {},
     "output_type": "execute_result"
    }
   ],
   "source": [
    "tweets = pd.DataFrame(tweets_list, columns=[\"Tarih\",'Tweet_id','Text'])\n",
    "tweets.head()"
   ]
  },
  {
   "cell_type": "markdown",
   "metadata": {},
   "source": [
    "### Eğitilmiş BERT Modeli Kullanarak Duygu Analizinin Yapılması"
   ]
  },
  {
   "cell_type": "code",
   "execution_count": 6,
   "metadata": {
    "ExecuteTime": {
     "end_time": "2020-05-21T13:25:08.766507Z",
     "start_time": "2020-05-21T13:24:57.433065Z"
    }
   },
   "outputs": [],
   "source": [
    "# Eğitilmiş Ağırlıkların Yüklenmesi\n",
    "model = AutoModelForSequenceClassification.from_pretrained(\"savasy/bert-base-turkish-sentiment-cased\")\n",
    "tokenizer = AutoTokenizer.from_pretrained(\"savasy/bert-base-turkish-sentiment-cased\")\n",
    "\n",
    "sentiment_analysis_pipeline= pipeline(\"sentiment-analysis\", tokenizer=tokenizer, model=model)"
   ]
  },
  {
   "cell_type": "code",
   "execution_count": 36,
   "metadata": {
    "ExecuteTime": {
     "end_time": "2020-05-21T14:29:16.249328Z",
     "start_time": "2020-05-21T14:29:15.994270Z"
    }
   },
   "outputs": [
    {
     "data": {
      "text/plain": [
       "[{'label': 'LABEL_1', 'score': 0.9875534}]"
      ]
     },
     "execution_count": 36,
     "metadata": {},
     "output_type": "execute_result"
    }
   ],
   "source": [
    "sentiment_analysis_pipeline(\"Çok güzel bir film olduğunu düşünüyorum\")"
   ]
  },
  {
   "cell_type": "code",
   "execution_count": 8,
   "metadata": {
    "ExecuteTime": {
     "end_time": "2020-05-21T13:25:36.794417Z",
     "start_time": "2020-05-21T13:25:13.685742Z"
    }
   },
   "outputs": [
    {
     "name": "stderr",
     "output_type": "stream",
     "text": [
      "100%|████████████| 100/100 [00:23<00:00,  4.34it/s]\n"
     ]
    }
   ],
   "source": [
    "sentiment_result=[]\n",
    "for text in tqdm(tweets.Text):\n",
    "    result = sentiment_analysis_pipeline(text)[0]\n",
    "    sentiment_result.append(result)"
   ]
  },
  {
   "cell_type": "code",
   "execution_count": 9,
   "metadata": {
    "ExecuteTime": {
     "end_time": "2020-05-21T13:25:36.903438Z",
     "start_time": "2020-05-21T13:25:36.862415Z"
    }
   },
   "outputs": [
    {
     "data": {
      "text/html": [
       "<div>\n",
       "<style scoped>\n",
       "    .dataframe tbody tr th:only-of-type {\n",
       "        vertical-align: middle;\n",
       "    }\n",
       "\n",
       "    .dataframe tbody tr th {\n",
       "        vertical-align: top;\n",
       "    }\n",
       "\n",
       "    .dataframe thead th {\n",
       "        text-align: right;\n",
       "    }\n",
       "</style>\n",
       "<table border=\"1\" class=\"dataframe\">\n",
       "  <thead>\n",
       "    <tr style=\"text-align: right;\">\n",
       "      <th></th>\n",
       "      <th>label</th>\n",
       "      <th>score</th>\n",
       "    </tr>\n",
       "  </thead>\n",
       "  <tbody>\n",
       "    <tr>\n",
       "      <td>0</td>\n",
       "      <td>LABEL_1</td>\n",
       "      <td>0.805984</td>\n",
       "    </tr>\n",
       "    <tr>\n",
       "      <td>1</td>\n",
       "      <td>LABEL_1</td>\n",
       "      <td>0.824013</td>\n",
       "    </tr>\n",
       "    <tr>\n",
       "      <td>2</td>\n",
       "      <td>LABEL_0</td>\n",
       "      <td>0.768402</td>\n",
       "    </tr>\n",
       "    <tr>\n",
       "      <td>3</td>\n",
       "      <td>LABEL_1</td>\n",
       "      <td>0.987426</td>\n",
       "    </tr>\n",
       "    <tr>\n",
       "      <td>4</td>\n",
       "      <td>LABEL_1</td>\n",
       "      <td>0.748325</td>\n",
       "    </tr>\n",
       "  </tbody>\n",
       "</table>\n",
       "</div>"
      ],
      "text/plain": [
       "     label     score\n",
       "0  LABEL_1  0.805984\n",
       "1  LABEL_1  0.824013\n",
       "2  LABEL_0  0.768402\n",
       "3  LABEL_1  0.987426\n",
       "4  LABEL_1  0.748325"
      ]
     },
     "execution_count": 9,
     "metadata": {},
     "output_type": "execute_result"
    }
   ],
   "source": [
    "sentiment_result = pd.DataFrame(sentiment_result)\n",
    "sentiment_result.head()"
   ]
  },
  {
   "cell_type": "code",
   "execution_count": 10,
   "metadata": {
    "ExecuteTime": {
     "end_time": "2020-05-21T13:25:37.030088Z",
     "start_time": "2020-05-21T13:25:36.983041Z"
    }
   },
   "outputs": [
    {
     "data": {
      "text/html": [
       "<div>\n",
       "<style scoped>\n",
       "    .dataframe tbody tr th:only-of-type {\n",
       "        vertical-align: middle;\n",
       "    }\n",
       "\n",
       "    .dataframe tbody tr th {\n",
       "        vertical-align: top;\n",
       "    }\n",
       "\n",
       "    .dataframe thead th {\n",
       "        text-align: right;\n",
       "    }\n",
       "</style>\n",
       "<table border=\"1\" class=\"dataframe\">\n",
       "  <thead>\n",
       "    <tr style=\"text-align: right;\">\n",
       "      <th></th>\n",
       "      <th>Tarih</th>\n",
       "      <th>Tweet_id</th>\n",
       "      <th>Text</th>\n",
       "      <th>label</th>\n",
       "      <th>score</th>\n",
       "    </tr>\n",
       "  </thead>\n",
       "  <tbody>\n",
       "    <tr>\n",
       "      <td>0</td>\n",
       "      <td>2020-05-21 13:24:37</td>\n",
       "      <td>1263460690444062722</td>\n",
       "      <td>RT @trdusuncekulubu: KORONA VİRÜS FIRSAT MI?\\n...</td>\n",
       "      <td>1</td>\n",
       "      <td>0.805984</td>\n",
       "    </tr>\n",
       "    <tr>\n",
       "      <td>1</td>\n",
       "      <td>2020-05-21 13:24:34</td>\n",
       "      <td>1263460678800748545</td>\n",
       "      <td>RT @1Kirazkizi: Bir ramazanı daha bitirdiniz. ...</td>\n",
       "      <td>1</td>\n",
       "      <td>0.824013</td>\n",
       "    </tr>\n",
       "    <tr>\n",
       "      <td>2</td>\n",
       "      <td>2020-05-21 13:24:32</td>\n",
       "      <td>1263460671146123266</td>\n",
       "      <td>HDP milletvekili Dilşat Canbaz, TJA, TUHAY-DER...</td>\n",
       "      <td>0</td>\n",
       "      <td>0.768402</td>\n",
       "    </tr>\n",
       "    <tr>\n",
       "      <td>3</td>\n",
       "      <td>2020-05-21 13:24:23</td>\n",
       "      <td>1263460630809448451</td>\n",
       "      <td>@bra716 @HBC53 Korona seni çok tehlikeli bi ha...</td>\n",
       "      <td>1</td>\n",
       "      <td>0.987426</td>\n",
       "    </tr>\n",
       "    <tr>\n",
       "      <td>4</td>\n",
       "      <td>2020-05-21 13:24:13</td>\n",
       "      <td>1263460591815065601</td>\n",
       "      <td>Dr. İbrahim Uslu: ❝Korona süreciyle birlikte t...</td>\n",
       "      <td>1</td>\n",
       "      <td>0.748325</td>\n",
       "    </tr>\n",
       "  </tbody>\n",
       "</table>\n",
       "</div>"
      ],
      "text/plain": [
       "                Tarih             Tweet_id  \\\n",
       "0 2020-05-21 13:24:37  1263460690444062722   \n",
       "1 2020-05-21 13:24:34  1263460678800748545   \n",
       "2 2020-05-21 13:24:32  1263460671146123266   \n",
       "3 2020-05-21 13:24:23  1263460630809448451   \n",
       "4 2020-05-21 13:24:13  1263460591815065601   \n",
       "\n",
       "                                                Text  label     score  \n",
       "0  RT @trdusuncekulubu: KORONA VİRÜS FIRSAT MI?\\n...      1  0.805984  \n",
       "1  RT @1Kirazkizi: Bir ramazanı daha bitirdiniz. ...      1  0.824013  \n",
       "2  HDP milletvekili Dilşat Canbaz, TJA, TUHAY-DER...      0  0.768402  \n",
       "3  @bra716 @HBC53 Korona seni çok tehlikeli bi ha...      1  0.987426  \n",
       "4  Dr. İbrahim Uslu: ❝Korona süreciyle birlikte t...      1  0.748325  "
      ]
     },
     "execution_count": 10,
     "metadata": {},
     "output_type": "execute_result"
    }
   ],
   "source": [
    "sentiment_result = pd.DataFrame(sentiment_result)\n",
    "tweets = pd.concat([tweets, sentiment_result],axis=1)\n",
    "tweets.label = tweets.label.map({'LABEL_1':1,'LABEL_0':0})\n",
    "tweets.head()"
   ]
  },
  {
   "cell_type": "markdown",
   "metadata": {},
   "source": [
    "### Hepsini Bir araya Getirelim"
   ]
  },
  {
   "cell_type": "code",
   "execution_count": 11,
   "metadata": {
    "ExecuteTime": {
     "end_time": "2020-05-21T13:25:37.135669Z",
     "start_time": "2020-05-21T13:25:37.105626Z"
    }
   },
   "outputs": [],
   "source": [
    "class TwitterSentimentAnalyser:\n",
    "    def __init__(self, consumer_key, consumer_secret, access_token, access_token_secret, keyword, tweetCount):\n",
    "        self.keyword = keyword\n",
    "        self.consumer_key = consumer_key\n",
    "        self.consumer_secret = consumer_secret\n",
    "        self.access_token = access_token\n",
    "        self.access_token_secret = access_token_secret\n",
    "        self.tweetCount = tweetCount\n",
    "        \n",
    "    def getTwitterData(self):\n",
    "        tweets_list = []\n",
    "        \n",
    "        for tweet in api.search(q=self.keyword, count=self.tweetCount, lang='tr-tr'):\n",
    "            tweets_list.append((tweet.created_at,tweet.id,tweet.text))\n",
    "            \n",
    "        self.tweets = pd.DataFrame(tweets_list, columns=[\"Tarih\",'Tweet_id','Text'])\n",
    "            \n",
    "    def bertPipeline(self):\n",
    "        # Eğitilmiş Ağırlıkların Yüklenmesi\n",
    "        model = AutoModelForSequenceClassification.from_pretrained(\"savasy/bert-base-turkish-sentiment-cased\")\n",
    "        tokenizer = AutoTokenizer.from_pretrained(\"savasy/bert-base-turkish-sentiment-cased\")\n",
    "\n",
    "        self.sentiment_analysis_pipeline= pipeline(\"sentiment-analysis\", tokenizer=tokenizer, model=model)\n",
    "        \n",
    "    def sentimentPrediction(self):\n",
    "        self.sentiment_result=[]\n",
    "        for text in tqdm(self.tweets.Text):\n",
    "            result = sentiment_analysis_pipeline(text)[0]\n",
    "            self.sentiment_result.append(result)\n",
    "        \n",
    "        self.sentiment_result = pd.DataFrame(self.sentiment_result)\n",
    "        self.tweets = pd.concat([self.tweets, self.sentiment_result],axis=1)\n",
    "        self.tweets.label = self.tweets.label.map({'LABEL_1':1,'LABEL_0':0})"
   ]
  },
  {
   "cell_type": "code",
   "execution_count": 26,
   "metadata": {
    "ExecuteTime": {
     "end_time": "2020-05-21T14:25:46.029005Z",
     "start_time": "2020-05-21T14:25:45.857393Z"
    }
   },
   "outputs": [],
   "source": [
    "twst = TwitterSentimentAnalyser(consumer_key = consumer_keys, consumer_secret = consumer_secrets,\n",
    "                                access_token = access_tokens, access_token_secret = access_token_secrets,\n",
    "                                keyword='dolar', tweetCount=100)"
   ]
  },
  {
   "cell_type": "code",
   "execution_count": 27,
   "metadata": {
    "ExecuteTime": {
     "end_time": "2020-05-21T14:25:48.274372Z",
     "start_time": "2020-05-21T14:25:46.997168Z"
    }
   },
   "outputs": [
    {
     "data": {
      "text/html": [
       "<div>\n",
       "<style scoped>\n",
       "    .dataframe tbody tr th:only-of-type {\n",
       "        vertical-align: middle;\n",
       "    }\n",
       "\n",
       "    .dataframe tbody tr th {\n",
       "        vertical-align: top;\n",
       "    }\n",
       "\n",
       "    .dataframe thead th {\n",
       "        text-align: right;\n",
       "    }\n",
       "</style>\n",
       "<table border=\"1\" class=\"dataframe\">\n",
       "  <thead>\n",
       "    <tr style=\"text-align: right;\">\n",
       "      <th></th>\n",
       "      <th>Tarih</th>\n",
       "      <th>Tweet_id</th>\n",
       "      <th>Text</th>\n",
       "    </tr>\n",
       "  </thead>\n",
       "  <tbody>\n",
       "    <tr>\n",
       "      <td>0</td>\n",
       "      <td>2020-05-21 14:25:43</td>\n",
       "      <td>1263476068142452736</td>\n",
       "      <td>RT @ugurses: AK Parti iktidara geldiğinde Aral...</td>\n",
       "    </tr>\n",
       "    <tr>\n",
       "      <td>1</td>\n",
       "      <td>2020-05-21 14:25:37</td>\n",
       "      <td>1263476044071346180</td>\n",
       "      <td>RT @eha_medya: 📍BAE bölgedeki başarısız askeri...</td>\n",
       "    </tr>\n",
       "    <tr>\n",
       "      <td>2</td>\n",
       "      <td>2020-05-21 14:25:35</td>\n",
       "      <td>1263476035565359107</td>\n",
       "      <td>RT @ademyarslan: 500 bin liralık rüşveti bilme...</td>\n",
       "    </tr>\n",
       "    <tr>\n",
       "      <td>3</td>\n",
       "      <td>2020-05-21 14:25:34</td>\n",
       "      <td>1263476028707610624</td>\n",
       "      <td>RT @alpertan66: İşbilya’da (Sevilla) 700 yıl s...</td>\n",
       "    </tr>\n",
       "    <tr>\n",
       "      <td>4</td>\n",
       "      <td>2020-05-21 14:25:24</td>\n",
       "      <td>1263475987070750720</td>\n",
       "      <td>Çerezlik 1500 dolar aldım bakalım ne kadar düş...</td>\n",
       "    </tr>\n",
       "  </tbody>\n",
       "</table>\n",
       "</div>"
      ],
      "text/plain": [
       "                Tarih             Tweet_id  \\\n",
       "0 2020-05-21 14:25:43  1263476068142452736   \n",
       "1 2020-05-21 14:25:37  1263476044071346180   \n",
       "2 2020-05-21 14:25:35  1263476035565359107   \n",
       "3 2020-05-21 14:25:34  1263476028707610624   \n",
       "4 2020-05-21 14:25:24  1263475987070750720   \n",
       "\n",
       "                                                Text  \n",
       "0  RT @ugurses: AK Parti iktidara geldiğinde Aral...  \n",
       "1  RT @eha_medya: 📍BAE bölgedeki başarısız askeri...  \n",
       "2  RT @ademyarslan: 500 bin liralık rüşveti bilme...  \n",
       "3  RT @alpertan66: İşbilya’da (Sevilla) 700 yıl s...  \n",
       "4  Çerezlik 1500 dolar aldım bakalım ne kadar düş...  "
      ]
     },
     "execution_count": 27,
     "metadata": {},
     "output_type": "execute_result"
    }
   ],
   "source": [
    "twst.getTwitterData()\n",
    "twst.tweets.head()"
   ]
  },
  {
   "cell_type": "code",
   "execution_count": 28,
   "metadata": {
    "ExecuteTime": {
     "end_time": "2020-05-21T14:26:01.243000Z",
     "start_time": "2020-05-21T14:25:50.294320Z"
    }
   },
   "outputs": [],
   "source": [
    "twst.bertPipeline()"
   ]
  },
  {
   "cell_type": "code",
   "execution_count": 29,
   "metadata": {
    "ExecuteTime": {
     "end_time": "2020-05-21T14:26:33.693174Z",
     "start_time": "2020-05-21T14:26:01.994254Z"
    }
   },
   "outputs": [
    {
     "name": "stderr",
     "output_type": "stream",
     "text": [
      "100%|████████████| 100/100 [00:31<00:00,  3.16it/s]\n"
     ]
    },
    {
     "data": {
      "text/html": [
       "<div>\n",
       "<style scoped>\n",
       "    .dataframe tbody tr th:only-of-type {\n",
       "        vertical-align: middle;\n",
       "    }\n",
       "\n",
       "    .dataframe tbody tr th {\n",
       "        vertical-align: top;\n",
       "    }\n",
       "\n",
       "    .dataframe thead th {\n",
       "        text-align: right;\n",
       "    }\n",
       "</style>\n",
       "<table border=\"1\" class=\"dataframe\">\n",
       "  <thead>\n",
       "    <tr style=\"text-align: right;\">\n",
       "      <th></th>\n",
       "      <th>Tarih</th>\n",
       "      <th>Tweet_id</th>\n",
       "      <th>Text</th>\n",
       "      <th>label</th>\n",
       "      <th>score</th>\n",
       "    </tr>\n",
       "  </thead>\n",
       "  <tbody>\n",
       "    <tr>\n",
       "      <td>0</td>\n",
       "      <td>2020-05-21 14:25:43</td>\n",
       "      <td>1263476068142452736</td>\n",
       "      <td>RT @ugurses: AK Parti iktidara geldiğinde Aral...</td>\n",
       "      <td>1</td>\n",
       "      <td>0.901227</td>\n",
       "    </tr>\n",
       "    <tr>\n",
       "      <td>1</td>\n",
       "      <td>2020-05-21 14:25:37</td>\n",
       "      <td>1263476044071346180</td>\n",
       "      <td>RT @eha_medya: 📍BAE bölgedeki başarısız askeri...</td>\n",
       "      <td>0</td>\n",
       "      <td>0.987927</td>\n",
       "    </tr>\n",
       "    <tr>\n",
       "      <td>2</td>\n",
       "      <td>2020-05-21 14:25:35</td>\n",
       "      <td>1263476035565359107</td>\n",
       "      <td>RT @ademyarslan: 500 bin liralık rüşveti bilme...</td>\n",
       "      <td>0</td>\n",
       "      <td>0.940648</td>\n",
       "    </tr>\n",
       "    <tr>\n",
       "      <td>3</td>\n",
       "      <td>2020-05-21 14:25:34</td>\n",
       "      <td>1263476028707610624</td>\n",
       "      <td>RT @alpertan66: İşbilya’da (Sevilla) 700 yıl s...</td>\n",
       "      <td>1</td>\n",
       "      <td>0.907677</td>\n",
       "    </tr>\n",
       "    <tr>\n",
       "      <td>4</td>\n",
       "      <td>2020-05-21 14:25:24</td>\n",
       "      <td>1263475987070750720</td>\n",
       "      <td>Çerezlik 1500 dolar aldım bakalım ne kadar düş...</td>\n",
       "      <td>0</td>\n",
       "      <td>0.999318</td>\n",
       "    </tr>\n",
       "  </tbody>\n",
       "</table>\n",
       "</div>"
      ],
      "text/plain": [
       "                Tarih             Tweet_id  \\\n",
       "0 2020-05-21 14:25:43  1263476068142452736   \n",
       "1 2020-05-21 14:25:37  1263476044071346180   \n",
       "2 2020-05-21 14:25:35  1263476035565359107   \n",
       "3 2020-05-21 14:25:34  1263476028707610624   \n",
       "4 2020-05-21 14:25:24  1263475987070750720   \n",
       "\n",
       "                                                Text  label     score  \n",
       "0  RT @ugurses: AK Parti iktidara geldiğinde Aral...      1  0.901227  \n",
       "1  RT @eha_medya: 📍BAE bölgedeki başarısız askeri...      0  0.987927  \n",
       "2  RT @ademyarslan: 500 bin liralık rüşveti bilme...      0  0.940648  \n",
       "3  RT @alpertan66: İşbilya’da (Sevilla) 700 yıl s...      1  0.907677  \n",
       "4  Çerezlik 1500 dolar aldım bakalım ne kadar düş...      0  0.999318  "
      ]
     },
     "execution_count": 29,
     "metadata": {},
     "output_type": "execute_result"
    }
   ],
   "source": [
    "twst.sentimentPrediction()\n",
    "twst.tweets.head()"
   ]
  },
  {
   "cell_type": "code",
   "execution_count": 33,
   "metadata": {
    "ExecuteTime": {
     "end_time": "2020-05-21T14:27:04.673030Z",
     "start_time": "2020-05-21T14:27:04.656015Z"
    }
   },
   "outputs": [
    {
     "name": "stdout",
     "output_type": "stream",
     "text": [
      "dolar Hakkında 2020-05-21 14:16:33 ile 2020-05-21 14:25:43 arasında atılan Tweetlerin Pozitiflik Oranı: 0.46\n"
     ]
    }
   ],
   "source": [
    "print(f\"{twst.keyword} Hakkında {twst.tweets.Tarih.min()} ile {twst.tweets.Tarih.max()} arasında atılan Tweetlerin Pozitiflik Oranı: {twst.tweets.label.mean()}\")"
   ]
  },
  {
   "cell_type": "code",
   "execution_count": 31,
   "metadata": {
    "ExecuteTime": {
     "end_time": "2020-05-21T14:26:34.127263Z",
     "start_time": "2020-05-21T14:26:33.864724Z"
    }
   },
   "outputs": [
    {
     "data": {
      "image/png": "[encoded data removed]",
      "text/plain": [
       "<Figure size 432x288 with 1 Axes>"
      ]
     },
     "metadata": {},
     "output_type": "display_data"
    }
   ],
   "source": [
    "import matplotlib.pyplot as plt\n",
    "\n",
    "labels = twst.tweets.label.map({1:'Olumlu',0:'Olumsuz'}).value_counts().index.values\n",
    "sizes = twst.tweets.label.value_counts().values\n",
    "\n",
    "fig1, ax1 = plt.subplots()\n",
    "ax1.pie(sizes, labels=labels, autopct='%1.1f%%',\n",
    "        shadow=True, startangle=90)\n",
    "ax1.axis('equal')\n",
    "plt.show()"
   ]
  },
  {
   "cell_type": "code",
   "execution_count": null,
   "metadata": {},
   "outputs": [],
   "source": []
  }
 ],
 "metadata": {
  "hide_input": false,
  "kernelspec": {
   "display_name": "Python 3",
   "language": "python",
   "name": "python3"
  },
  "language_info": {
   "codemirror_mode": {
    "name": "ipython",
    "version": 3
   },
   "file_extension": ".py",
   "mimetype": "text/x-python",
   "name": "python",
   "nbconvert_exporter": "python",
   "pygments_lexer": "ipython3",
   "version": "3.8.5"
  },
  "toc": {
   "base_numbering": 1,
   "nav_menu": {},
   "number_sections": true,
   "sideBar": true,
   "skip_h1_title": false,
   "title_cell": "Table of Contents",
   "title_sidebar": "Contents",
   "toc_cell": false,
   "toc_position": {},
   "toc_section_display": true,
   "toc_window_display": false
  },
  "varInspector": {
   "cols": {
    "lenName": 16,
    "lenType": 16,
    "lenVar": 40
   },
   "kernels_config": {
    "python": {
     "delete_cmd_postfix": "",
     "delete_cmd_prefix": "del ",
     "library": "var_list.py",
     "varRefreshCmd": "print(var_dic_list())"
    },
    "r": {
     "delete_cmd_postfix": ") ",
     "delete_cmd_prefix": "rm(",
     "library": "var_list.r",
     "varRefreshCmd": "cat(var_dic_list()) "
    }
   },
   "types_to_exclude": [
    "module",
    "function",
    "builtin_function_or_method",
    "instance",
    "_Feature"
   ],
   "window_display": false
  }
 },
 "nbformat": 4,
 "nbformat_minor": 4
}
