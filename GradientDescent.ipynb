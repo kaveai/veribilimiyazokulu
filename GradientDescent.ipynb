{
  "nbformat": 4,
  "nbformat_minor": 0,
  "metadata": {
    "colab": {
      "name": "GradientDescent.ipynb",
      "provenance": [],
      "collapsed_sections": []
    },
    "kernelspec": {
      "name": "python3",
      "display_name": "Python 3"
    },
    "widgets": {
      "application/vnd.jupyter.widget-state+json": {
        "95e2df9343c34928864ac302db2aee8b": {
          "model_module": "@jupyter-widgets/controls",
          "model_name": "VBoxModel",
          "model_module_version": "1.5.0",
          "state": {
            "_view_name": "VBoxView",
            "_dom_classes": [
              "widget-interact"
            ],
            "_model_name": "VBoxModel",
            "_view_module": "@jupyter-widgets/controls",
            "_model_module_version": "1.5.0",
            "_view_count": null,
            "_view_module_version": "1.5.0",
            "box_style": "",
            "layout": "IPY_MODEL_081752ffd9334edbafa34438d50b0109",
            "_model_module": "@jupyter-widgets/controls",
            "children": [
              "IPY_MODEL_495fc7fbf61d4503bd07e5f562f91cf3",
              "IPY_MODEL_2f4e4a425c8440309eb72d0d183be83f",
              "IPY_MODEL_10be9b42de90452e8432ff35dcc73468"
            ]
          }
        },
        "081752ffd9334edbafa34438d50b0109": {
          "model_module": "@jupyter-widgets/base",
          "model_name": "LayoutModel",
          "model_module_version": "1.2.0",
          "state": {
            "_view_name": "LayoutView",
            "grid_template_rows": null,
            "right": null,
            "justify_content": null,
            "_view_module": "@jupyter-widgets/base",
            "overflow": null,
            "_model_module_version": "1.2.0",
            "_view_count": null,
            "flex_flow": null,
            "width": null,
            "min_width": null,
            "border": null,
            "align_items": null,
            "bottom": null,
            "_model_module": "@jupyter-widgets/base",
            "top": null,
            "grid_column": null,
            "overflow_y": null,
            "overflow_x": null,
            "grid_auto_flow": null,
            "grid_area": null,
            "grid_template_columns": null,
            "flex": null,
            "_model_name": "LayoutModel",
            "justify_items": null,
            "grid_row": null,
            "max_height": null,
            "align_content": null,
            "visibility": null,
            "align_self": null,
            "height": null,
            "min_height": null,
            "padding": null,
            "grid_auto_rows": null,
            "grid_gap": null,
            "max_width": null,
            "order": null,
            "_view_module_version": "1.2.0",
            "grid_template_areas": null,
            "object_position": null,
            "object_fit": null,
            "grid_auto_columns": null,
            "margin": null,
            "display": null,
            "left": null
          }
        },
        "495fc7fbf61d4503bd07e5f562f91cf3": {
          "model_module": "@jupyter-widgets/controls",
          "model_name": "FloatSliderModel",
          "model_module_version": "1.5.0",
          "state": {
            "_view_name": "FloatSliderView",
            "style": "IPY_MODEL_f170cf3e53d547988e7e45e60db277cc",
            "_dom_classes": [],
            "description": "w1",
            "step": 0.01,
            "_model_name": "FloatSliderModel",
            "orientation": "horizontal",
            "max": 2,
            "_view_module": "@jupyter-widgets/controls",
            "_model_module_version": "1.5.0",
            "value": 0.53,
            "_view_count": null,
            "disabled": false,
            "_view_module_version": "1.5.0",
            "min": -2,
            "continuous_update": true,
            "readout_format": ".2f",
            "description_tooltip": null,
            "readout": true,
            "_model_module": "@jupyter-widgets/controls",
            "layout": "IPY_MODEL_72cd98c7fb9745b3b107da7001e20948"
          }
        },
        "2f4e4a425c8440309eb72d0d183be83f": {
          "model_module": "@jupyter-widgets/controls",
          "model_name": "FloatSliderModel",
          "model_module_version": "1.5.0",
          "state": {
            "_view_name": "FloatSliderView",
            "style": "IPY_MODEL_6782d126b90546a18baa4cfb7277f3f7",
            "_dom_classes": [],
            "description": "w0",
            "step": 0.01,
            "_model_name": "FloatSliderModel",
            "orientation": "horizontal",
            "max": 5,
            "_view_module": "@jupyter-widgets/controls",
            "_model_module_version": "1.5.0",
            "value": 2.34,
            "_view_count": null,
            "disabled": false,
            "_view_module_version": "1.5.0",
            "min": -5,
            "continuous_update": true,
            "readout_format": ".2f",
            "description_tooltip": null,
            "readout": true,
            "_model_module": "@jupyter-widgets/controls",
            "layout": "IPY_MODEL_5caeb085bc074912ad29e815ab916a71"
          }
        },
        "10be9b42de90452e8432ff35dcc73468": {
          "model_module": "@jupyter-widgets/output",
          "model_name": "OutputModel",
          "model_module_version": "1.0.0",
          "state": {
            "_view_name": "OutputView",
            "msg_id": "",
            "_dom_classes": [],
            "_model_name": "OutputModel",
            "outputs": [
              {
                "output_type": "display_data",
                "metadata": {
                  "tags": [],
                  "needs_background": "light"
                },
                "image/png": "iVBORw0KGgoAAAANSUhEUgAAAQwAAADSCAYAAAC/z/54AAAABHNCSVQICAgIfAhkiAAAAAlwSFlzAAALEgAACxIB0t1+/AAAADh0RVh0U29mdHdhcmUAbWF0cGxvdGxpYiB2ZXJzaW9uMy4yLjIsIGh0dHA6Ly9tYXRwbG90bGliLm9yZy+WH4yJAAAaUUlEQVR4nO3de7xVZZ3H8c9PEIiLCkqgoKJOaumr0I7lmBkORIaNl6bxZYOTpsX0mjEv04xD+mq0GXW6TVLWVMe0HD2ZlSmOqUgFmpUUIJl4CTQQEJDURDjekN/88Tybs85i73PW2Xvt+/f9eu3X2Ws96/Lb6+z928961rOfZe6OiEgWu9Q7ABFpHkoYIpKZEoaIZKaEISKZKWGISGZKGCKSmRKGiGTWkgnDzFaZ2UtmtiXx+Fq948rCzCaZ2Z1m9ryZbTCzr5nZ4D6WH2tm3zOzF+I6XYmyL5nZCjN70cweM7OPpNadbGZLzKw7/p1cZPtDzOxRM1ubmt9pZo+b2XYzO6uP+H5mZl7sNZjZe2LZ5Yl5Q83sKjN7Or6e/zGzXRPlbzazn8fXu9LMTk1t82Nx/hYzu9vM9kmU7WFm15vZM/FxWWrdY8zsN/F4PWRmxybKzMwuMbOnzGyzmX3fzHZLlE8ws7lm9pyZrTWzT6S2/ddm9nCM61dm9pZSx6yhuXvLPYBVwLSMyw4uMm/QAPc3oOX72dadwHeBYcB44PfAeX0s/wvgy8DuwK7AEYmyzwKHEr4Y3gk8DxwTy4YAq4ELgaHAeXF6SGr7lwD3AWtT8/8JmAosBs4qEdvMuK6nj3OMdRnwAHB5Yv6l8TWNAcbG8s8W/lfAH4B/BgYBfwVsBQ6O5VOAZ4DD4uv7BnBvYtvfAX4IDAcmAU8AH41lY4Bngb+N2z4jHq/RsfxM4DFgX2AkMBe4PrHtBcCc+LreBjwHHB/L3gRsBo6Nr+HTwMpi771Gf9Q9gKq8qD4SBnAW8EvgqvgGuTx+QL8RP6xbgWnAm4GFwJ+B5cBJiW3stHyOsT8KzEhMfxH4Vollp8fXmilhAbcDn0qsuw6wRPlTwAmJ6QNiPO8nlTASy9xPkYRBSGB/AI6meMKYDXwhHstkwlgM/G1i+u+ANfH54cCWVMz3AP8Zn38J+HqibJ+474Pi9J+AoxLlFwO/iM8/ACxPxfgH4Jz4/EfAvybKjgFeJiSfkXE/YxPlncAN8fm5wE8SZbsALwFT6/1ZGeijJU9JMngn8CQwDrgizvu7+HwUsAj4P8Kb8Y3AJ4EuMzsksY3k8vendxCr0n8u8Xioj9jmAKeb2XAzm0D4sN5dYtmjgceB683sWTP7rZm9p9iCZvYG4ChC8oPwLfyQx3dw9FCcX3A14UP1Uh/xlnIlIaluKBLL/sDZwH+UWNdSzyea2e59LHt4H+vST3mpsizbHkqoPViJ8r7WTZc3hVZOGLelPqQfT5Q97e5Xu/s2dy98GOa6+y/dfTswmfCt8Tl3f9Xdfw7cAXw4sY0dy7v7y+mdu/s/uvseJR5v7SPu+wgf2s3AWsI37m0llp1IqCksIJy+/Dcw18z2KrLsN4HfAfPi9EjghdQyLxASILFtYJC739pHrEWZWQfwLkLCKearwGfcfUuRsruB82PbzHjCqRKEb/LHCacc/2pmu5rZdOA9sayw7mlm9taYIP+d8M2fLJ9tZqPM7C8ISatQ9mtgHzP7cNz2mcBBqXU/FtuYdgf+rRCXu79IqLV+xsyGmdmRwN8k1v0p8B4zm2JmQwhJeEiivGm0csI4JfUhvSZRtqbI8sl5+xCqwdsT81YDE/rZRkXMbBfCG/PHwAhgL2A08PkSq7wErHL3a939NXf/fozrXantfpHwbXZaokaxBdiN3nYDXjSzEYTThfMYoPga/gc43923FSn/a2CUu99cYhNXAA8S2jd+RUiWrwEb3f014BTgRELN5VPADwiJFXf/KaEN5BbCqdoq4MVCeXw9LwErCG0QNyXWfRY4mdA+shE4gfBBL6x7XVx+IaGWtiDOL5TPJJzCrSHUrG5MbPsxQhvI14D1hP/rI4l1m0e9z4mq8aD/Noz7U/O+S+/z6HcT3pC7JOZ9D7is2PIl9vNNwoey2GN5iXX2Inwj7p6YdwrwcInlzwGeTM17CDg5Mf1Z4GFgz9Ry0wlv2GR7wGrCB2Uy4UO6IT6eA16PzyelttOrDQPYA9ieWHdTfE0b4nGdQ6g9FcpfisdkbonXOAv4dR/H+VfAP5QoO5jQxjS6RPmVwE0lygYT2nTeV6K8cPx2KVH+PeC/SpTtEV/zofX+rAz0UfcAqvKiKk8YQwhtHLMJrd5TCN9UhxZbPufYC/sdHN9YtwLfK7HsGEJL/pmElv0PxQ/3XrH804Rv0/FF1i1cJTmfcC5+bpweEvc9PvH4IPB0fD4osf4wQlX84/H5LoRz8+S6R8WEMSGuMypVfjOhAXpM3O4EQg3PCG00a4DpibjfGvc1HPgX4I/A0Fg2jFCTMmA/Qm3gysS6BwF7xmP1fkIj6GGJ8iPi/3s3QmL7ZepYHxS3/RZCEp6VKH9zfG1DCFdY/kTvRtC3x/2OJdSKiv5PG/1R9wCq9KFbRc83V+Fxayw7i34SRpx3GHAv4bz+EeDUvpbPMfbJ8Y3+fHzT/QAYlyjfArw7Mf1uwqXXLYT2jmSZA6+kjsPFifIjgCXxWC0lcUk2FdMUdr6sujBuP/mYUmTdSRS5SlLqWALHxf9fN6HNYmZq+S/GY7MFuAv4i0TZHoQa1lZC7eW/SFxBAk4jJL5uwinP+1Lbvin+v18gJLI3JsoOjvF0ExLrP6fWvYBQm9pKqHV1pMrvJ3zpPAd8CxhR789JOQ+LL0ZEpF+t3OgpIjnrN2GY2XWxG+3DiXljzGx+7HY838xGVzdMEWkEWWoY3yW0nCfNBn7m7m8CfhanRaTFZWrDMLNJwB3ufnicfpzQwLXezPYGFrr7IX1sQkRaQLltGOPcfX18voHQxVpEWlzJn01n5e5uZiWrKWY2i9D5hhEjRrz90EMPrXSXIjJAS5Ys+ZO7j610O+UmjI1mtnfilOSZUgu6eyfhl3t0dHT44sWLy9yliJTLzFbnsZ1yT0luJ/QuJP6dm0cwItLYslxWvYnwS75D4khC5wCfA95rZisIY0d8rrphikgj6PeUxN0/XKJoas6xiEiDU09PEclMCUNEMlPCEJHMlDBEJDMlDBHJTAlDRDJTwhCRzJQwRCQzJQwRyUwJQ0QyU8IQkcyUMKTpjB8/HjPb6TF+/Ph6h9bylDCk6WzcuHFA8yU/ShjSxK6Kjxrp6oJJk2CXXcLfrq7a7btBVDxEn0j9TK7drrq6YNYs6O4O06tXh2mAmTNrF0edqYYhksUll0B3NxdwFRcUajXd3WF+G1ENQySL1WFIzGXpWs1TT9UhmPpRDUOazrhxxe9qUWp+RebNA7PS5fvtl/8+G5hqGNJ0NmzYAMCUKWF64cIq3FD86adhwoSe6REjYPv2cJ/7guHD4Yor8t93A1MNQyTp9ddh6tTeyWLpUtiyBa65BoYOC/P23x86O9uqwRNUwxDpcfXVcN55PdNf/Sp88pM90zNnwjXx+cJVtYysYShhiCxdCm9/e8/0tGlw990waFD9YmpQOiWR9pPsgDVoUO9k8fTTMH++kkUJShjSXgodsFavBvfQkAlw0UVheu+96xtfg6soYZjZhWa23MweNrObzGxYXoGJVEXsrdmrAxbAzTfXL6YmUnbCMLMJwHlAh7sfDgwCTs8rMJFcLVgQ+lPErt3LmNy7E1Y/HbAKv5C9996F3Hvvwrb9hWyljZ6DgTeY2WvAcODpykMSydHWrTByZP/L9dMBS7+QDcquYbj7OuBLwFPAeuAFd78nvZyZzTKzxWa2eNOmTeVHKjJQI0b0ThZTpsCNN4YOV0lt2AGrXJWckowGTgYOAPYBRpjZGenl3L3T3TvcvWPs2LHlRyqS1Re+0Ov0AwgdshYsCH0pOjsr6IC1LD7aUyWnJNOAP7r7JgAz+zFwDHBjHoGJDNiKFXDwwb3nPfYYHHJI73kVdcC6sMzgWkMlV0meAo42s+FmZsBU4NF8whLpR1cXPPAA3Lsw1BLMeieLK68Ml0nTyUIqUnYNw90XmdmPgKXANuBBoDOvwERKKvSleOUnYTp5hWPoUHj55dx3OW7cuKINnFX5hWwDq+gqibtfClyaUywi2cTBbHay775VG5+i8AvZdqffkkhzWb9+x2A2k9ONj2vX1iGg9qKEIc0jNZDNnHQDZJsNZlMP+i2JNL4jj9x51Cv1pagLJQxpXHffHRLFgw/2zFu+PFz96OzsuTrSpoPZ1INOSaTxvPIKDEv9jnHWLPjWt3qmZ85UgqgDJQxpLMUG3PUqjNkpZdEpidRPciCb3XbbOVl0dytZNBglDKmP9EA2L77YUzZ3bpj3hjfULz4pSglD6uPii4sPZLP//nDSSfWLS/qkNgypvTFj4PnnAd1JrNmohiG109UV2ilisihKna8amhJGmysMPZd+5Dr03ObNIVGckRgu5YMfVOerJqRTkjZX9aHn+rpM2tUF5wyDV14ObRdXXKG+FQ1OCUOiQsNjTgPEnHYa/PCHvee99hoMTrzldCexpqNTEokmx8cAJftSTJoEl18eahXJZHHffaFWMVjfT81O/0EpX6EvRWFsitWr4TOf6SmfNi3cRUxahhKGlC8OZFPoR9Hr5+bqodmSlDDaXEVDz8WBbHbqS1GsoVNaghJGmysMPTdlSpheuDBDzWDdOpg4sXS5+lK0LCUMGZj+ag8Z+1KMHz8+1mwWxM0eD4SajcbPbFy6SiLZjBu3c7LYvj3cSayMmwLp1oPNSTUM6dttt8Gpp/ae95vfwFFHhefqS9FWlDCkuGKjXk2fDvPm5byj9r3tYDOqKGGY2R7At4HDAQfOdvdf5xGY1FBXFzxwUOiiPemsHVc/eilymTSfdoj2vvVgs6m0DeMrwN3ufijwNnSrxOaz4y5i8W5h6WSxeXPJPhVqh2g/ldy9fXfgOOBaAHd/1d3/nFdgUiOl7iK2554hUYwaVZXdlurn0W63Hmw2lZySHABsAr5jZm8DlgDnu/vWXCKT2ih1F7HnnhvARgbeDqFLp82pklOSwcCRwDfc/QhgKzA7vZCZzTKzxWa2eNOmTRXsTnJ13HG9LpPO4cLeXbsH1PnqQtQW0R4qSRhrgbXuvihO/4iQQHpx905373D3jrFjx1awO8nFXXeFRPGLX/TMSw+2q4FspISyE4a7bwDWmNkhcdZU4JFcopL8dXeHRDFjRs+8r3wltFNcc01ZdxFTO0T7qbQfxieBLjMbAjwJfLTykCR36R6agwbBtm0902XeRUztEO2nooTh7suAjpxikTx0dYUrH089Fa5wbN7cuzw96lWb0W9YKqPfkrSS9M2Bksli0SKNeoX6jlRKCaOV9HVzoHe8o35xScto76+bVlI4DUE3B8pGv2EphxJGs1u0CI4+uu9lNKBNEeo3Ug6dkuSoJjcFKti6NVz9SCaLyy7TzYGkqpQwclSzBrVjj4WRI3umL744NGheemnoQ1HGgDbtQn1HKqNTkqrI+aZABd/5Dpx9ds/08OGwZUvvfhYa0KZPunRaGSWMqijjhkB9+eMf4cADe89bvx6qcaoj0gedkjSS9F3Ebrgh1B6SyeKWW8Lph5KF1IFqGI2i2F3EPvKRnvJTToFbb+1zE+rFKNWmhJGjim4K1NddxF55BYYM6XcT6sUo1aaEkaOybgpUUKrTlVmmZCFSC0oYjeDgg0vfi7SsTlfqxSjVoUbPerrqqlCDWLEiTKd/hl52pyuNgCXVoRpGPTzyCBx2WO95zz4bRsM6Z1gYwXv//UOyUKcraSBKGLX06qswdGjveffcA+99b3heYaerihpdRTLQKUmtnHZa72Rxzjmh3aKQLHKwYcMG3H2nhy6pSl5Uw8hb+i5ip54Kc+b0XmbbtjBMnkiTUQ0jT8XuIpZMFitXhlqFkoU0KdUw8lTqLmJjxoRGTZEmp4SRp1J3EXv++ToEI5I/JYw8LF4MRx21Y3JOug+ERrySFqGEUYnubhgxove8oUPDbz8KNOKVtBA1epbr+ON7J4uLLgoNmtdeW9ZdxESaQcU1DDMbBCwG1rn7ByoPqcHdcEPvn53vumuoURS6dZd5FzGRZpDHKcn5wKPAbjlsq3GtXh0GtUlatw722acu4YjUQ0WnJGY2ETgR+HY+4TSI5MhXhdOLZLL4wQ/C6YeShbSZSmsYc4CLgFE5xNIY0iNfJW8CdOKJcMcd9YlLpAGUXcMwsw8Az7j7kn6Wm2Vmi81s8aZNm8rdXe0kRr7qdbvB/fZTspC2V0kN413ASWY2AxgG7GZmN7r7GcmF3L0T6ATo6OgYwBBUddDdvaPz1U4jX61ZU4eARBpL2TUMd/+0u09090nA6cDP08miqVx44c59KhLWpAe3EWlD6odx112hUTP+SGw+sDW1yFbg37Zvr3VkIg0nl4Th7gubrg/GunUhUcyYEabf+EbYvJnpwMeB+HtTVsXpm+oRo0iDab+u4a+/DtOmwcKFPfMefBAm97RZhOQQfkB2QC1jE2lwrX1Kkr6T2BlnwODBPcni618P/SkmF7u1oQbSFUlr3RpGsTuJxSsgTJ8Od96pgWxEBqh1axil+lNMnAjz5pVMFqUGzNVAuiKtXMModSexdev6XE0D5oqU1roJY7/9ek5B0vOlrUya/ZPMy6763IlVjKT5te4pyRVXhMFrkjSYjUhFWreGURiTQncSE8lN6yYMqPhOYiLSW+uekohI7pQwRCSz1j4laSLjx4+PN1JeAIDZ8UDo/6FLvdIoVMNoEMXuut7XfJF6UMIQkcx0StJwlvW/iEidKGE0HP1CVhqXTklEJDMljAahX8lKM9ApSYPQpVNpBqphiEhmLVvDUEcokfy1bMJoho5QAxmnATRWg9SfTklEJLOWrWH0UEcokbyUnTDMbF/gf4FxgAOd7v6VvALLjzpCieSlkhrGNuBT7r7UzEYBS8xsvrs/klNsItJgKrkZ83p3Xxqfvwg8CkzIK7BKqSOUSP5yacMws0nAEcCiImWzgFkA+9VwxG5dOhXJX8VXScxsJHALcIG7b06Xu3unu3e4e8fYsWMr3Z2I1FFFCcPMdiUkiy53/3E+IYlIoyo7YZiZAdcCj7r7l/MLSUQaVSU1jHcBfw/8lZkti48ZOcUlIg2o7EZPd78fsBxjEZEGp67hIpKZEoaIZKaEISKZKWGISGZKGCKSmRKGiGSmhCEimSlhiEhmShgikpkShohkpoQhIpkpYYhIZkoYIpKZEoaIZKaEISKZtcGNjKQV6LaSjaGlEobeVCLVpVMSEclMCUNEMlPCEJHMlDBEJDMlDBHJrKWuktRDM16ZqVfMzXasmi3eWqj0VoknmNnjZrbSzGbnFZSINKayaxhmNgj4OvBeYC3wWzO73d0fySs46V+tvwX1rdveKqlhvANY6e5PuvurwPeBk/MJS0QaUSVtGBOANYnptcA7KwunfgbyzalvTWlX5u7lrWj2IeAEd/9YnP574J3ufm5quVnArDh5OPBw+eFWxV7An+odRIpiyq4R42rEmA5x91GVbqSSGsY6YN/E9MQ4rxd37wQ6Acxssbt3VLDP3CmmbBoxJmjMuBo1pjy2U0kbxm+BN5nZAWY2BDgduD2PoESkMZVdw3D3bWZ2LjAPGARc5+7Lc4tMRBpORR233P1O4M4BrNJZyf6qRDFl04gxQWPG1bIxld3oKSLtR78lEZHMqpIw+usybmZDzezmWL7IzCZVI47E/vY1swVm9oiZLTez84ssM8XMXjCzZfHx79WMKe5zlZn9Pu5vp1ZsC74aj9NDZnZkleM5JPH6l5nZZjO7ILVMTY6TmV1nZs+Y2cOJeWPMbL6ZrYh/R5dY98y4zAozO7PKMX3RzB6L/59bzWyPEuv2+b/OOabLzGxd4n80o8S6A/9ph7vn+iA0gD4BHAgMAX4HvCW1zD8C34zPTwduzjuO1P72Bo6Mz0cBfygS0xTgjmrGUSSuVcBefZTPAO4CDDgaWFTD2AYBG4D963GcgOOAI4GHE/O+AMyOz2cDny+y3hjgyfh3dHw+uooxTQcGx+efLxZTlv91zjFdBvxLhv9vn5/TYo9q1DCydBk/Gbg+Pv8RMNXMrAqxAODu6919aXz+IvAooadqozsZ+F8PHgD2MLO9a7TvqcAT7r66Rvvrxd3vA55LzU6+b64HTimy6vuA+e7+nLs/D8wHTqhWTO5+j7tvi5MPEPoj1UyJ45RFWT/tqEbCKNZlPP3h3LFMPNgvAHtWIZadxNOfI4BFRYr/0sx+Z2Z3mdlhNQjHgXvMbEnsEZuW5VhWy+nATSXKan2cCsa5+/r4fAMwrsgy9TxmZxNqhMX097/O27nxNOm6EqduZR2ntmr0NLORwC3ABe6+OVW8lFD9fhtwNXBbDUI61t2PBN4P/JOZHVeDffYrdsQ7CfhhkeJ6HKedeKhXN8wlPjO7BNgGdJVYpJb/628ABwGTgfXAf+e14WokjCxdxncsY2aDgd2BZ6sQyw5mtishWXS5+4/T5e6+2d23xOd3Arua2V7VjMnd18W/zwC3EqqJSZm631fB+4Gl7r4xXVCP45SwsXBKFv8+U2SZmh8zMzsL+AAwMyaynWT4X+fG3Te6++vuvh24psS+yjpO1UgYWbqM3w4UWq8/BPy81IHOQ2wfuRZ41N2/XGKZ8YV2FDN7B+HYVC2JmdkIMxtVeE5oPEv/MO924CPxasnRwAuJKnk1fZgSpyO1Pk4pyffNmcDcIsvMA6ab2ehYFZ8e51WFmZ0AXASc5O7dJZbJ8r/OM6ZkO9epJfZV3k878m61jZ/7GYQrEU8Al8R5/0E4qADDCNXdlcBvgAOrEUcinmMJ1deHgGXxMQP4BPCJuMy5wHJCa/EDwDFVjunAuK/fxf0WjlMyJiMMUvQE8Hugo5oxxX2OICSA3RPzan6cCAlrPfAa4fz6HEI718+AFcBPgTFx2Q7g24l1z47vrZXAR6sc00pCW0DhfVW4+rcPcGdf/+sqxnRDfL88REgCe6djitM7fU77e6inp4hk1laNniJSGSUMEclMCUNEMlPCEJHMlDBEJDMlDBHJTAlDRDJTwhCRzP4fmFbZh3QJzVoAAAAASUVORK5CYII=\n",
                "text/plain": "<Figure size 288x216 with 1 Axes>"
              }
            ],
            "_view_module": "@jupyter-widgets/output",
            "_model_module_version": "1.0.0",
            "_view_count": null,
            "_view_module_version": "1.0.0",
            "layout": "IPY_MODEL_64fe1db386cd4fcfa7fc5e1475b63f29",
            "_model_module": "@jupyter-widgets/output"
          }
        },
        "f170cf3e53d547988e7e45e60db277cc": {
          "model_module": "@jupyter-widgets/controls",
          "model_name": "SliderStyleModel",
          "model_module_version": "1.5.0",
          "state": {
            "_view_name": "StyleView",
            "handle_color": null,
            "_model_name": "SliderStyleModel",
            "description_width": "",
            "_view_module": "@jupyter-widgets/base",
            "_model_module_version": "1.5.0",
            "_view_count": null,
            "_view_module_version": "1.2.0",
            "_model_module": "@jupyter-widgets/controls"
          }
        },
        "72cd98c7fb9745b3b107da7001e20948": {
          "model_module": "@jupyter-widgets/base",
          "model_name": "LayoutModel",
          "model_module_version": "1.2.0",
          "state": {
            "_view_name": "LayoutView",
            "grid_template_rows": null,
            "right": null,
            "justify_content": null,
            "_view_module": "@jupyter-widgets/base",
            "overflow": null,
            "_model_module_version": "1.2.0",
            "_view_count": null,
            "flex_flow": null,
            "width": null,
            "min_width": null,
            "border": null,
            "align_items": null,
            "bottom": null,
            "_model_module": "@jupyter-widgets/base",
            "top": null,
            "grid_column": null,
            "overflow_y": null,
            "overflow_x": null,
            "grid_auto_flow": null,
            "grid_area": null,
            "grid_template_columns": null,
            "flex": null,
            "_model_name": "LayoutModel",
            "justify_items": null,
            "grid_row": null,
            "max_height": null,
            "align_content": null,
            "visibility": null,
            "align_self": null,
            "height": null,
            "min_height": null,
            "padding": null,
            "grid_auto_rows": null,
            "grid_gap": null,
            "max_width": null,
            "order": null,
            "_view_module_version": "1.2.0",
            "grid_template_areas": null,
            "object_position": null,
            "object_fit": null,
            "grid_auto_columns": null,
            "margin": null,
            "display": null,
            "left": null
          }
        },
        "6782d126b90546a18baa4cfb7277f3f7": {
          "model_module": "@jupyter-widgets/controls",
          "model_name": "SliderStyleModel",
          "model_module_version": "1.5.0",
          "state": {
            "_view_name": "StyleView",
            "handle_color": null,
            "_model_name": "SliderStyleModel",
            "description_width": "",
            "_view_module": "@jupyter-widgets/base",
            "_model_module_version": "1.5.0",
            "_view_count": null,
            "_view_module_version": "1.2.0",
            "_model_module": "@jupyter-widgets/controls"
          }
        },
        "5caeb085bc074912ad29e815ab916a71": {
          "model_module": "@jupyter-widgets/base",
          "model_name": "LayoutModel",
          "model_module_version": "1.2.0",
          "state": {
            "_view_name": "LayoutView",
            "grid_template_rows": null,
            "right": null,
            "justify_content": null,
            "_view_module": "@jupyter-widgets/base",
            "overflow": null,
            "_model_module_version": "1.2.0",
            "_view_count": null,
            "flex_flow": null,
            "width": null,
            "min_width": null,
            "border": null,
            "align_items": null,
            "bottom": null,
            "_model_module": "@jupyter-widgets/base",
            "top": null,
            "grid_column": null,
            "overflow_y": null,
            "overflow_x": null,
            "grid_auto_flow": null,
            "grid_area": null,
            "grid_template_columns": null,
            "flex": null,
            "_model_name": "LayoutModel",
            "justify_items": null,
            "grid_row": null,
            "max_height": null,
            "align_content": null,
            "visibility": null,
            "align_self": null,
            "height": null,
            "min_height": null,
            "padding": null,
            "grid_auto_rows": null,
            "grid_gap": null,
            "max_width": null,
            "order": null,
            "_view_module_version": "1.2.0",
            "grid_template_areas": null,
            "object_position": null,
            "object_fit": null,
            "grid_auto_columns": null,
            "margin": null,
            "display": null,
            "left": null
          }
        },
        "64fe1db386cd4fcfa7fc5e1475b63f29": {
          "model_module": "@jupyter-widgets/base",
          "model_name": "LayoutModel",
          "model_module_version": "1.2.0",
          "state": {
            "_view_name": "LayoutView",
            "grid_template_rows": null,
            "right": null,
            "justify_content": null,
            "_view_module": "@jupyter-widgets/base",
            "overflow": null,
            "_model_module_version": "1.2.0",
            "_view_count": null,
            "flex_flow": null,
            "width": null,
            "min_width": null,
            "border": null,
            "align_items": null,
            "bottom": null,
            "_model_module": "@jupyter-widgets/base",
            "top": null,
            "grid_column": null,
            "overflow_y": null,
            "overflow_x": null,
            "grid_auto_flow": null,
            "grid_area": null,
            "grid_template_columns": null,
            "flex": null,
            "_model_name": "LayoutModel",
            "justify_items": null,
            "grid_row": null,
            "max_height": null,
            "align_content": null,
            "visibility": null,
            "align_self": null,
            "height": null,
            "min_height": null,
            "padding": null,
            "grid_auto_rows": null,
            "grid_gap": null,
            "max_width": null,
            "order": null,
            "_view_module_version": "1.2.0",
            "grid_template_areas": null,
            "object_position": null,
            "object_fit": null,
            "grid_auto_columns": null,
            "margin": null,
            "display": null,
            "left": null
          }
        }
      }
    }
  },
  "cells": [
    {
      "cell_type": "markdown",
      "metadata": {
        "id": "koFWYJpjfuCy"
      },
      "source": [
        "> Following example taken from Ali Taylan Cemgil's talk on byoyo2018\n",
        "\n",
        "\n",
        "# Line Fitting\n",
        "\n",
        "* Input - output pairs\n",
        "$$\n",
        "(x_i, y_i)\n",
        "$$\n",
        "$i=1\\dots N$ \n",
        "\n",
        "* Model\n",
        "$$\n",
        "\\hat y_i = f(x; w_1, w_0) = w_0 + w_1 x \n",
        "$$\n",
        "\n",
        "\n",
        ">  $x$ : input \n",
        "\n",
        ">  $w_1$: weight 1 (slope)\n",
        "\n",
        ">  $w_0$: weight 1 (bias)\n",
        "\n",
        "$f_i \\equiv f(x_i; w_1, w_0)$\n",
        "\n",
        "\n",
        "Learning from experience (data $(x_i, y_i)$),\n",
        "\n",
        "> We want to find optimum parameters $w_1, w_0$ that minimize the loss function \n",
        "\n",
        "and loss function is the difference between actual target value $y_i$ and the predicted value $\\hat y_i$.\n",
        "\n",
        "## Loss Function\n",
        "$$\n",
        "J(w) = \\frac{1}{2N}\\sum^N_i (\\hat y_i - y_i)^2 = \\frac{1}{2N}\\sum^N_i ( w_0 + w_1 x - y_i)^2\n",
        "$$"
      ]
    },
    {
      "cell_type": "code",
      "metadata": {
        "id": "wUNU26pGfUOI",
        "colab": {
          "base_uri": "https://localhost:8080/",
          "height": 243
        },
        "outputId": "0855c2ec-b3d5-4d3c-f825-3df0833f2569"
      },
      "source": [
        "from __future__ import print_function\n",
        "import matplotlib.pyplot as plt\n",
        "import numpy as np\n",
        "%matplotlib inline\n",
        "\n",
        "from ipywidgets import interact, interactive, fixed\n",
        "import ipywidgets as widgets\n",
        "import matplotlib.pylab as plt\n",
        "from IPython.display import clear_output, display, HTML\n",
        "\n",
        "x = np.array([8.0 , 6.1 , 11.,  7.,   9.,   12. , 4.,   2.,   10,    5,    3])\n",
        "y = np.array([6.04, 4.95, 5.58, 6.81, 6.33, 7.96, 5.24, 2.26, 8.84, 2.82, 3.68])\n",
        "\n",
        "plt.figure(figsize=(4,3))\n",
        "plt.plot(x,y,'sk')\n",
        "plt.xlabel('x (input: ex-properties of the house (size))')\n",
        "plt.ylabel('y (output : ex-price of the house)')"
      ],
      "execution_count": null,
      "outputs": [
        {
          "output_type": "execute_result",
          "data": {
            "text/plain": [
              "Text(0, 0.5, 'y (output : ex-price of the house)')"
            ]
          },
          "metadata": {
            "tags": []
          },
          "execution_count": 1
        },
        {
          "output_type": "display_data",
          "data": {
            "image/png": "[encoded data removed]",
            "text/plain": [
              "<Figure size 288x216 with 1 Axes>"
            ]
          },
          "metadata": {
            "tags": [],
            "needs_background": "light"
          }
        }
      ]
    },
    {
      "cell_type": "code",
      "metadata": {
        "id": "jpsCY4MMfh1P",
        "colab": {
          "base_uri": "https://localhost:8080/",
          "height": 227
        },
        "outputId": "2c7281ff-ab35-42ce-9dfc-6fd4474bb9c7"
      },
      "source": [
        "def plot_fit(w1, w0):\n",
        "    f = w0 + w1*x\n",
        "\n",
        "    plt.figure(figsize=(4,3))\n",
        "    plt.plot(x,y,'sk')\n",
        "    plt.plot(x,f,'o-r')\n",
        "    #plt.axis('equal')\n",
        "    plt.xlim((0,15))\n",
        "    plt.ylim((0,10))\n",
        "    for i in range(len(x)):\n",
        "        plt.plot((x[i],x[i]),(f[i],y[i]),'b')\n",
        "#    plt.show()\n",
        "#    plt.figure(figsize=(4,1))\n",
        "    plt.bar(x,(f-y)**2/2)\n",
        "    plt.title('Error = '+str(np.sum((f-y)**2/2)))\n",
        "    plt.ylim((0,10))\n",
        "    plt.xlim((0,15))\n",
        "    plt.show()\n",
        "    \n",
        "plot_fit(0.0,3.79)"
      ],
      "execution_count": null,
      "outputs": [
        {
          "output_type": "display_data",
          "data": {
            "image/png": "[encoded data removed]",
            "text/plain": [
              "<Figure size 288x216 with 1 Axes>"
            ]
          },
          "metadata": {
            "tags": [],
            "needs_background": "light"
          }
        }
      ]
    },
    {
      "cell_type": "code",
      "metadata": {
        "id": "2vL3VMUYfbwg",
        "colab": {
          "base_uri": "https://localhost:8080/",
          "height": 291,
          "referenced_widgets": [
            "95e2df9343c34928864ac302db2aee8b",
            "081752ffd9334edbafa34438d50b0109",
            "495fc7fbf61d4503bd07e5f562f91cf3",
            "2f4e4a425c8440309eb72d0d183be83f",
            "10be9b42de90452e8432ff35dcc73468",
            "f170cf3e53d547988e7e45e60db277cc",
            "72cd98c7fb9745b3b107da7001e20948",
            "6782d126b90546a18baa4cfb7277f3f7",
            "5caeb085bc074912ad29e815ab916a71",
            "64fe1db386cd4fcfa7fc5e1475b63f29"
          ]
        },
        "outputId": "2419c41a-9c1c-4d4e-9b4d-a6318c42dffe"
      },
      "source": [
        "interact(plot_fit, w1=(-2, 2, 0.01), w0=(-5, 5, 0.01));"
      ],
      "execution_count": null,
      "outputs": [
        {
          "output_type": "display_data",
          "data": {
            "application/vnd.jupyter.widget-view+json": {
              "model_id": "95e2df9343c34928864ac302db2aee8b",
              "version_minor": 0,
              "version_major": 2
            },
            "text/plain": [
              "interactive(children=(FloatSlider(value=0.0, description='w1', max=2.0, min=-2.0, step=0.01), FloatSlider(valu…"
            ]
          },
          "metadata": {
            "tags": []
          }
        }
      ]
    },
    {
      "cell_type": "code",
      "metadata": {
        "id": "vDoN0l6xfT4l"
      },
      "source": [
        ""
      ],
      "execution_count": null,
      "outputs": []
    },
    {
      "cell_type": "markdown",
      "metadata": {
        "id": "Jk856dH5FrBO"
      },
      "source": [
        "# Gradient Descent\n",
        "\n",
        "\n",
        "Randomly initialize w\n",
        "\n",
        "Loop \n",
        " - update: $w = w - \\alpha \\frac{dJ}{dw}$"
      ]
    },
    {
      "cell_type": "markdown",
      "metadata": {
        "id": "Z6veQhb4FTQo"
      },
      "source": [
        "\n",
        "Function to be minimized\n",
        "$$\n",
        "f(w) = (w-3)^2 + 5\n",
        "$$\n",
        "\n",
        "Derivative\n",
        "$$\n",
        "\\frac{df(w)}{dw} = 2(w-3)\\frac{d(w-3)}{dw} + 0 = 2(w-3)(\\frac{d(w)}{dw}- \\frac{d3}{dw}) = 2(w-3) (1 - 0) = 2(w-3)\n",
        "$$\n"
      ]
    },
    {
      "cell_type": "code",
      "metadata": {
        "id": "4t52XO4OFvkx"
      },
      "source": [
        "def f(w): \n",
        "  return (w-3) * (w-3) + 5"
      ],
      "execution_count": null,
      "outputs": []
    },
    {
      "cell_type": "code",
      "metadata": {
        "id": "SBmh0LxUF2ih"
      },
      "source": [
        "import numpy as np\n",
        "import pandas as pd\n",
        "import matplotlib.pyplot as plt\n",
        "plt.style.use('ggplot')"
      ],
      "execution_count": null,
      "outputs": []
    },
    {
      "cell_type": "code",
      "metadata": {
        "id": "6HRU2Jg8F_Mt"
      },
      "source": [
        "w = np.linspace(-10,16,100)"
      ],
      "execution_count": null,
      "outputs": []
    },
    {
      "cell_type": "code",
      "metadata": {
        "id": "aL8ipBOnGEaN",
        "colab": {
          "base_uri": "https://localhost:8080/",
          "height": 282
        },
        "outputId": "8a7795f3-b930-47be-a452-5ae5855c2585"
      },
      "source": [
        "plt.plot(w,f(w),\"*\")\n",
        "plt.xlabel(\"parameter w\")\n",
        "plt.ylabel(\"Cost Function f(w)\")\n",
        "plt.show()"
      ],
      "execution_count": null,
      "outputs": [
        {
          "output_type": "display_data",
          "data": {
            "image/png": "[encoded data removed]",
            "text/plain": [
              "<Figure size 432x288 with 1 Axes>"
            ]
          },
          "metadata": {
            "tags": []
          }
        }
      ]
    },
    {
      "cell_type": "code",
      "metadata": {
        "id": "dtgITstpGE_y"
      },
      "source": [
        "def derivative(w):\n",
        "  return 2 * (w - 3)"
      ],
      "execution_count": null,
      "outputs": []
    },
    {
      "cell_type": "markdown",
      "metadata": {
        "id": "FqS0_VUrGDEO"
      },
      "source": [
        "# Gradient Descent\n",
        "\n",
        "\n",
        "Randomly initialize w\n",
        "\n",
        "Loop \n",
        " - update: $w = w - \\alpha \\frac{dJ}{dw}$"
      ]
    },
    {
      "cell_type": "code",
      "metadata": {
        "id": "7pX5vMPjGHC2",
        "colab": {
          "base_uri": "https://localhost:8080/"
        },
        "outputId": "c0ad997a-83a3-4c56-cfb6-18aaa5c77991"
      },
      "source": [
        "# Randomly initialize w\n",
        "w0 = np.random.randn()\n",
        "w0"
      ],
      "execution_count": null,
      "outputs": [
        {
          "output_type": "execute_result",
          "data": {
            "text/plain": [
              "1.1231058417413582"
            ]
          },
          "metadata": {
            "tags": []
          },
          "execution_count": 13
        }
      ]
    },
    {
      "cell_type": "code",
      "metadata": {
        "id": "7rLafkgCHMaC",
        "colab": {
          "base_uri": "https://localhost:8080/"
        },
        "outputId": "31e8c277-afe9-478d-d3f2-1603004ea4da"
      },
      "source": [
        "alpha = 0.00001\n",
        "for i in range(100000):\n",
        "  w0 = w0 - alpha *  derivative(w0)\n",
        "w0"
      ],
      "execution_count": null,
      "outputs": [
        {
          "output_type": "execute_result",
          "data": {
            "text/plain": [
              "2.999999999999999"
            ]
          },
          "metadata": {
            "tags": []
          },
          "execution_count": 17
        }
      ]
    },
    {
      "cell_type": "markdown",
      "metadata": {
        "id": "_wJyORbbNELk"
      },
      "source": [
        "# Gradient Descent with multiple parameters\n",
        "\n",
        "Cost Function:\n",
        " - $ f(w0,w1,w2) = (w0 - 1)^2 + (w1 - 3)^2 +(w2 - 5)^2 $\n",
        " \n",
        " \n",
        "Derivatives\n",
        " - $ \\frac{df}{dw0} = 2 (w0 - 1)$\n",
        " - $ \\frac{df}{dw1} = 2 (w1 - 3)$\n",
        " - $ \\frac{df}{dw2} = 2 (w2 - 5)$\n",
        " \n",
        "Summary\n",
        " - $ \\frac{df}{dw} = 2 [(w0 - 1), (w1 - 3), (w2 - 5)].T $\n",
        " "
      ]
    },
    {
      "cell_type": "code",
      "metadata": {
        "id": "9MMktsC2NCpy"
      },
      "source": [
        "def cost(w0, w1, w2):\n",
        "    return ((w0-1)**2)+((w1-3)**2)+((w2-5)**2)\n",
        "\n",
        "def derivative(w0, w1, w2):\n",
        "    return 2*(w0-1), 2 * (w2 2 * (w1-3),-5)\n",
        "\n",
        "def gradient_descent(alpha = 0.05, number_steps = 10):\n",
        "    \"\"\"\n",
        "    w : initial value of parameter w\n",
        "    alpha : step size\n",
        "    \"\"\"\n",
        "    w0, w1, w2 = np.random.randn(3)\n",
        "    for i in range(number_steps):\n",
        "      dw0, dw1, dw2 = derivative(w0, w1, w2)\n",
        "      w0 = w0 - alpha * dw0\n",
        "      w1 = w1 - alpha * dw1\n",
        "      w2 = w2 - alpha * dw2\n",
        "\n",
        "    return w0, w1, w2"
      ],
      "execution_count": null,
      "outputs": []
    },
    {
      "cell_type": "code",
      "metadata": {
        "id": "Qy8b09T9RE1B",
        "colab": {
          "base_uri": "https://localhost:8080/",
          "height": 34
        },
        "outputId": "14827566-f140-4492-ee40-3f268aff4d32"
      },
      "source": [
        "gradient_descent(alpha = 0.05, number_steps = 100)"
      ],
      "execution_count": null,
      "outputs": [
        {
          "output_type": "execute_result",
          "data": {
            "text/plain": [
              "(1.0000097414844904, 2.9998711859847074, 4.99980989471061)"
            ]
          },
          "metadata": {
            "tags": []
          },
          "execution_count": 12
        }
      ]
    },
    {
      "cell_type": "markdown",
      "metadata": {
        "id": "Kes_MAA2jqrx"
      },
      "source": [
        "# Gradient Checking\n",
        "\n",
        "$f(x) = 3x^2 + 5$\n",
        "\n",
        "Fitting Line\n",
        "$y = mx + n \\Rightarrow f(x_0) = \\frac{\\partial f(x)}{\\partial x} x_0 + n $\n",
        "\n",
        "Gradient Checking at point $x_0$\n",
        "\n",
        "$f(x) = \\frac{\\partial f(x)}{\\partial x} x + (f(x_0) - \\frac{\\partial f(x)}{\\partial x} x_0)$"
      ]
    },
    {
      "cell_type": "code",
      "metadata": {
        "id": "A9jgeyGxjpxi"
      },
      "source": [
        "def f(x): \n",
        "  return 3*x*x + 5\n",
        "\n",
        "def turev(f, x, e = 0.00001):\n",
        "  return (f(x + e) - f(x))/e"
      ],
      "execution_count": null,
      "outputs": []
    },
    {
      "cell_type": "code",
      "metadata": {
        "id": "tw4dvBVumJD-"
      },
      "source": [
        "def ciz(f,x):\n",
        "  xs = np.linspace(-4,4)\n",
        "  plt.plot(xs, f(xs))\n",
        "  plt.plot(x, f(x), 'x')\n",
        "\n",
        "  t = np.linspace(x-1,x + 1)\n",
        "  plt.plot(t, turev(f,x) * t + (f(x) - turev(f,x) * x))\n",
        "  plt.title('{} Noktasinda Turev: {:.2f}'.format(x,turev(f,x)))"
      ],
      "execution_count": null,
      "outputs": []
    },
    {
      "cell_type": "code",
      "metadata": {
        "id": "GOtxOCMCkTxu",
        "colab": {
          "base_uri": "https://localhost:8080/",
          "height": 282
        },
        "outputId": "a19b65e7-00ad-4b34-f094-e785fa6a91e9"
      },
      "source": [
        "ciz(f,x = 3)"
      ],
      "execution_count": null,
      "outputs": [
        {
          "output_type": "display_data",
          "data": {
            "image/png": "[encoded data removed]",
            "text/plain": [
              "<Figure size 432x288 with 1 Axes>"
            ]
          },
          "metadata": {
            "tags": []
          }
        }
      ]
    },
    {
      "cell_type": "code",
      "metadata": {
        "id": "Myh5B6Jrj8iv",
        "colab": {
          "base_uri": "https://localhost:8080/",
          "height": 282
        },
        "outputId": "f4eca17b-6054-42cb-df78-f5b908c472c7"
      },
      "source": [
        "ciz(f,x = 2)"
      ],
      "execution_count": null,
      "outputs": [
        {
          "output_type": "display_data",
          "data": {
            "image/png": "[encoded data removed]",
            "text/plain": [
              "<Figure size 432x288 with 1 Axes>"
            ]
          },
          "metadata": {
            "tags": []
          }
        }
      ]
    },
    {
      "cell_type": "code",
      "metadata": {
        "id": "tisKuBhZmU1n",
        "colab": {
          "base_uri": "https://localhost:8080/",
          "height": 282
        },
        "outputId": "05a40425-7b17-4bb3-a43d-541a1a08a54f"
      },
      "source": [
        "ciz(f,x = 1)"
      ],
      "execution_count": null,
      "outputs": [
        {
          "output_type": "display_data",
          "data": {
            "image/png": "[encoded data removed]",
            "text/plain": [
              "<Figure size 432x288 with 1 Axes>"
            ]
          },
          "metadata": {
            "tags": []
          }
        }
      ]
    },
    {
      "cell_type": "code",
      "metadata": {
        "id": "j1PuC3SWmU4J",
        "colab": {
          "base_uri": "https://localhost:8080/",
          "height": 282
        },
        "outputId": "53897c9e-9c2a-4184-aa7b-800efa3c1274"
      },
      "source": [
        "ciz(f,x = 0)"
      ],
      "execution_count": null,
      "outputs": [
        {
          "output_type": "display_data",
          "data": {
            "image/png": "[encoded data removed]",
            "text/plain": [
              "<Figure size 432x288 with 1 Axes>"
            ]
          },
          "metadata": {
            "tags": []
          }
        }
      ]
    },
    {
      "cell_type": "code",
      "metadata": {
        "id": "WhygSAWemU6s",
        "colab": {
          "base_uri": "https://localhost:8080/",
          "height": 282
        },
        "outputId": "bf4f74b5-29f0-4786-96c2-f1abe4990b18"
      },
      "source": [
        "ciz(f,x = -1)"
      ],
      "execution_count": null,
      "outputs": [
        {
          "output_type": "display_data",
          "data": {
            "image/png": "[encoded data removed]",
            "text/plain": [
              "<Figure size 432x288 with 1 Axes>"
            ]
          },
          "metadata": {
            "tags": []
          }
        }
      ]
    },
    {
      "cell_type": "markdown",
      "metadata": {
        "id": "9FsVxB-czWLT"
      },
      "source": [
        "# Introduction to PyTorch\n",
        "\n",
        "https://towardsdatascience.com/understanding-pytorch-with-an-example-a-step-by-step-tutorial-81fc5f8c4e8e"
      ]
    },
    {
      "cell_type": "code",
      "metadata": {
        "id": "vkJk4c6imVAD"
      },
      "source": [
        "# Introduction to PyTorch\n",
        "\n",
        "import torch"
      ],
      "execution_count": null,
      "outputs": []
    },
    {
      "cell_type": "code",
      "metadata": {
        "id": "8bd4HmTRzenq",
        "colab": {
          "base_uri": "https://localhost:8080/",
          "height": 119
        },
        "outputId": "f59e1545-c14d-491f-e3e0-1b23558f9393"
      },
      "source": [
        "# initializing two tensors\n",
        "a = torch.tensor(2)\n",
        "b = torch.tensor(11)\n",
        "\n",
        "print(a,b)\n",
        "# addition\n",
        "print(a+b)\n",
        "# subtraction\n",
        "print(b-a)\n",
        "# multiplication\n",
        "print(a*b)\n",
        "# division\n",
        "print(b.floor_divide (a))\n",
        "print(b.true_divide (a))"
      ],
      "execution_count": null,
      "outputs": [
        {
          "output_type": "stream",
          "text": [
            "tensor(2) tensor(11)\n",
            "tensor(13)\n",
            "tensor(9)\n",
            "tensor(22)\n",
            "tensor(5)\n",
            "tensor(5.5000)\n"
          ],
          "name": "stdout"
        }
      ]
    },
    {
      "cell_type": "code",
      "metadata": {
        "id": "EQ6nVnW7z2GC",
        "colab": {
          "base_uri": "https://localhost:8080/",
          "height": 68
        },
        "outputId": "94c0a40a-c29f-400d-c006-94451d4b5b8a"
      },
      "source": [
        "# matrix of zeros\n",
        "a = torch.zeros((2,5))\n",
        "print(a)\n",
        "print(a.shape)"
      ],
      "execution_count": null,
      "outputs": [
        {
          "output_type": "stream",
          "text": [
            "tensor([[0., 0., 0., 0., 0.],\n",
            "        [0., 0., 0., 0., 0.]])\n",
            "torch.Size([2, 5])\n"
          ],
          "name": "stdout"
        }
      ]
    },
    {
      "cell_type": "code",
      "metadata": {
        "id": "YEhol2vIz2kO",
        "colab": {
          "base_uri": "https://localhost:8080/",
          "height": 68
        },
        "outputId": "f13625da-3b98-412e-df02-a9602d17183e"
      },
      "source": [
        "# setting the random seed for pytorch\n",
        "torch.manual_seed(42) # reproducibility : to repoduce the same results we need to use same random generator seed\n",
        "# matrix of random numbers\n",
        "a = torch.randn(3,3)\n",
        "a"
      ],
      "execution_count": null,
      "outputs": [
        {
          "output_type": "execute_result",
          "data": {
            "text/plain": [
              "tensor([[ 0.3367,  0.1288,  0.2345],\n",
              "        [ 0.2303, -1.1229, -0.1863],\n",
              "        [ 2.2082, -0.6380,  0.4617]])"
            ]
          },
          "metadata": {
            "tags": []
          },
          "execution_count": 23
        }
      ]
    },
    {
      "cell_type": "code",
      "metadata": {
        "id": "OEBY6P9Xz-UK",
        "colab": {
          "base_uri": "https://localhost:8080/",
          "height": 68
        },
        "outputId": "7acbbd3e-a2a7-41f4-edc8-eb455315276e"
      },
      "source": [
        "# setting the random seed for pytorch and initializing two tensors\n",
        "torch.manual_seed(42)\n",
        "a = torch.randn(3,3)\n",
        "b = torch.randn(3,3)\n",
        "\n",
        "c = a.add(b)\n",
        "c"
      ],
      "execution_count": null,
      "outputs": [
        {
          "output_type": "execute_result",
          "data": {
            "text/plain": [
              "tensor([[ 0.6040,  0.6637,  1.0438],\n",
              "        [ 1.3406, -2.8127, -1.1753],\n",
              "        [ 3.1662,  0.6841,  1.2788]])"
            ]
          },
          "metadata": {
            "tags": []
          },
          "execution_count": 24
        }
      ]
    },
    {
      "cell_type": "code",
      "metadata": {
        "id": "KKmEyKKP0JNq",
        "colab": {
          "base_uri": "https://localhost:8080/",
          "height": 170
        },
        "outputId": "f4c16684-ede3-4b9d-ce49-733034af6f05"
      },
      "source": [
        "c.reshape([9,1])"
      ],
      "execution_count": null,
      "outputs": [
        {
          "output_type": "execute_result",
          "data": {
            "text/plain": [
              "tensor([[ 0.6040],\n",
              "        [ 0.6637],\n",
              "        [ 1.0438],\n",
              "        [ 1.3406],\n",
              "        [-2.8127],\n",
              "        [-1.1753],\n",
              "        [ 3.1662],\n",
              "        [ 0.6841],\n",
              "        [ 1.2788]])"
            ]
          },
          "metadata": {
            "tags": []
          },
          "execution_count": 25
        }
      ]
    },
    {
      "cell_type": "code",
      "metadata": {
        "id": "zETJ8FGO0UKH"
      },
      "source": [
        "def f(w): \n",
        "  return (w-3) * (w-3) + 5"
      ],
      "execution_count": null,
      "outputs": []
    },
    {
      "cell_type": "code",
      "metadata": {
        "id": "B3ESbjLu0mYM",
        "colab": {
          "base_uri": "https://localhost:8080/",
          "height": 34
        },
        "outputId": "0e26c68a-9cda-4eb9-9b61-676460cbf6e2"
      },
      "source": [
        "w = torch.randn(1, requires_grad=True)\n",
        "print(w)"
      ],
      "execution_count": null,
      "outputs": [
        {
          "output_type": "stream",
          "text": [
            "tensor([-0.7658], requires_grad=True)\n"
          ],
          "name": "stdout"
        }
      ]
    },
    {
      "cell_type": "code",
      "metadata": {
        "id": "QNUOer2000r3",
        "colab": {
          "base_uri": "https://localhost:8080/",
          "height": 34
        },
        "outputId": "df459ed1-5069-4c19-e144-21190d3132fa"
      },
      "source": [
        "y = f(w)\n",
        "print(y)"
      ],
      "execution_count": null,
      "outputs": [
        {
          "output_type": "stream",
          "text": [
            "tensor([19.1815], grad_fn=<AddBackward0>)\n"
          ],
          "name": "stdout"
        }
      ]
    },
    {
      "cell_type": "markdown",
      "metadata": {
        "id": "j2eM2emac0R5"
      },
      "source": [
        "`w.grad` is $\\frac{df(w)}{dw}$"
      ]
    },
    {
      "cell_type": "code",
      "metadata": {
        "id": "0iGNfJGO0-j0",
        "colab": {
          "base_uri": "https://localhost:8080/",
          "height": 34
        },
        "outputId": "58d533b3-73c6-4d8e-bf70-d1f23f501be1"
      },
      "source": [
        "# back propagating\n",
        "y.backward()\n",
        "\n",
        "# computing gradients\n",
        "# Automatic calculation of derivative df(w)/dw\n",
        "print(w.grad) # "
      ],
      "execution_count": null,
      "outputs": [
        {
          "output_type": "stream",
          "text": [
            "tensor([-7.5317])\n"
          ],
          "name": "stdout"
        }
      ]
    },
    {
      "cell_type": "code",
      "metadata": {
        "id": "s4DTRwx51EVz",
        "colab": {
          "base_uri": "https://localhost:8080/",
          "height": 34
        },
        "outputId": "5d690ef7-4313-4bed-fb07-c13e7bacc283"
      },
      "source": [
        "# manual calculation of derivative df(w)/dw\n",
        "2 * (w-3)"
      ],
      "execution_count": null,
      "outputs": [
        {
          "output_type": "execute_result",
          "data": {
            "text/plain": [
              "tensor([-7.5317], grad_fn=<MulBackward0>)"
            ]
          },
          "metadata": {
            "tags": []
          },
          "execution_count": 30
        }
      ]
    },
    {
      "cell_type": "code",
      "metadata": {
        "id": "buALtbNV1Jne",
        "colab": {
          "base_uri": "https://localhost:8080/",
          "height": 34
        },
        "outputId": "48c4e388-427f-4a3e-f49b-22a6567f2d57"
      },
      "source": [
        "w = torch.randn(1, requires_grad=True)\n",
        "\n",
        "alpha = 0.1\n",
        "for i in range(1000):\n",
        "  # forward: use new weight to calculate y\n",
        "  y = f(w)\n",
        "  # backward: calculate derivative dy/dw\n",
        "  y.backward()\n",
        "  \n",
        "  # gradient descent, don't track\n",
        "  # torch.no_grad() make all the operations in the block have no gradients.\n",
        "  with torch.no_grad():\n",
        "    w = w - alpha *  w.grad\n",
        "  w.requires_grad = True\n",
        "w"
      ],
      "execution_count": null,
      "outputs": [
        {
          "output_type": "execute_result",
          "data": {
            "text/plain": [
              "tensor([3.0000], requires_grad=True)"
            ]
          },
          "metadata": {
            "tags": []
          },
          "execution_count": 31
        }
      ]
    },
    {
      "cell_type": "markdown",
      "metadata": {
        "id": "8Fa-kypFePjW"
      },
      "source": [
        "# Another Example\n",
        "\n",
        "Function to be minimized wrt w\n",
        "$$\n",
        "f(w) = (w - 7)^2 + 9\n",
        "$$\n",
        "\n",
        "Derivative \n",
        "\n",
        "$$\n",
        "\\frac{df(w)}{dw} = 2(w-7)\n",
        "$$"
      ]
    },
    {
      "cell_type": "code",
      "metadata": {
        "id": "a5iwn3cW-8dR"
      },
      "source": [
        "def f(w):\n",
        "  return (w -7)*(w -7) + 9"
      ],
      "execution_count": null,
      "outputs": []
    },
    {
      "cell_type": "code",
      "metadata": {
        "id": "SFEjCjJ8eg8p",
        "colab": {
          "base_uri": "https://localhost:8080/",
          "height": 299
        },
        "outputId": "da808134-deed-4743-9a9e-a8cea1e74dcf"
      },
      "source": [
        "w = np.linspace(5, 10, 21)\n",
        "y = [f(wi) for wi in w]\n",
        "plt.plot(w,y, '--x')\n",
        "plt.xlabel('w')\n",
        "plt.ylabel('f(w)')"
      ],
      "execution_count": null,
      "outputs": [
        {
          "output_type": "execute_result",
          "data": {
            "text/plain": [
              "Text(0, 0.5, 'f(w)')"
            ]
          },
          "metadata": {
            "tags": []
          },
          "execution_count": 33
        },
        {
          "output_type": "display_data",
          "data": {
            "image/png": "[encoded data removed]",
            "text/plain": [
              "<Figure size 432x288 with 1 Axes>"
            ]
          },
          "metadata": {
            "tags": []
          }
        }
      ]
    },
    {
      "cell_type": "markdown",
      "metadata": {
        "id": "7bwU8LTrfkpL"
      },
      "source": [
        "\n",
        "## Gradient Descent  \n",
        "Randomly initialize w \n",
        "Loop  \n",
        "  - update: $w = w - \\alpha \\frac{dJ}{dw}$\n",
        "\n"
      ]
    },
    {
      "cell_type": "code",
      "metadata": {
        "id": "tZLbZjf8ensW",
        "colab": {
          "base_uri": "https://localhost:8080/",
          "height": 34
        },
        "outputId": "a18a0cf6-11c3-4c47-dce1-4c3dba505525"
      },
      "source": [
        "w = torch.randn(1, requires_grad=True)\n",
        "\n",
        "alpha = 0.1\n",
        "for i in range(1000):\n",
        "  # forward: use new weight to calculate y\n",
        "  y = f(w)\n",
        "  # backward: calculate derivative dy/dw\n",
        "  y.backward()\n",
        "  \n",
        "  # gradient descent, don't track\n",
        "  # torch.no_grad() make all the operations in the block have no gradients.\n",
        "  with torch.no_grad():\n",
        "    w = w - alpha *  w.grad\n",
        "  w.requires_grad = True\n",
        "w"
      ],
      "execution_count": null,
      "outputs": [
        {
          "output_type": "execute_result",
          "data": {
            "text/plain": [
              "tensor([7.0000], requires_grad=True)"
            ]
          },
          "metadata": {
            "tags": []
          },
          "execution_count": 38
        }
      ]
    },
    {
      "cell_type": "code",
      "metadata": {
        "id": "R-reite3fL8E",
        "colab": {
          "base_uri": "https://localhost:8080/",
          "height": 51
        },
        "outputId": "845af99e-8cb8-47e6-cda8-dd98c6749040"
      },
      "source": [
        "print(f'function f(w) takes its minimum value at w = {w}')\n",
        "print(f'function f(w)\\'s min value is {f(w)}')"
      ],
      "execution_count": null,
      "outputs": [
        {
          "output_type": "stream",
          "text": [
            "function f(w) takes its minimum value at w = tensor([7.0000], requires_grad=True)\n",
            "function f(w)'s min value is tensor([9.], grad_fn=<AddBackward0>)\n"
          ],
          "name": "stdout"
        }
      ]
    },
    {
      "cell_type": "markdown",
      "metadata": {
        "id": "0PgU9FpaW5lx"
      },
      "source": [
        "## Optimizer"
      ]
    },
    {
      "cell_type": "code",
      "metadata": {
        "id": "qBXWvuY_gyil",
        "colab": {
          "base_uri": "https://localhost:8080/",
          "height": 34
        },
        "outputId": "1e6e3e8b-129a-4ceb-c9ce-70e3bbf94514"
      },
      "source": [
        "import torch.optim as optim\n",
        "\n",
        "w = torch.randn(1, requires_grad=True)\n",
        "alpha = 0.1\n",
        "\n",
        "# Defines a SGD optimizer to update the parameters\n",
        "optimizer = optim.SGD([w], lr=alpha)\n",
        "\n",
        "for i in range(1000):\n",
        "  # forward: use new weight to calculate y\n",
        "  y = f(w)\n",
        "  # backward: calculate derivative dy/dw\n",
        "  y.backward()\n",
        "  # No more manual update!\n",
        "  optimizer.step()\n",
        "  # Do not accumulate gradients\n",
        "  optimizer.zero_grad()\n",
        "w"
      ],
      "execution_count": null,
      "outputs": [
        {
          "output_type": "execute_result",
          "data": {
            "text/plain": [
              "tensor([7.0000], requires_grad=True)"
            ]
          },
          "metadata": {
            "tags": []
          },
          "execution_count": 47
        }
      ]
    },
    {
      "cell_type": "code",
      "metadata": {
        "id": "DXHdHRi6g-cK"
      },
      "source": [
        ""
      ],
      "execution_count": null,
      "outputs": []
    }
  ]
}