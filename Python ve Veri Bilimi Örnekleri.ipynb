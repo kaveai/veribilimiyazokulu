{
 "cells": [
  {
   "cell_type": "markdown",
   "metadata": {},
   "source": [
    "# Twitter Verisinin İncelenmesi"
   ]
  },
  {
   "cell_type": "code",
   "execution_count": 1,
   "metadata": {},
   "outputs": [],
   "source": [
    "import json\n",
    "import tweepy\n",
    "import time\n",
    "from tweepy import OAuthHandler\n",
    "import numpy as np\n",
    "import pandas as pd\n",
    "\n",
    "\n",
    "consumer_key = 'yoIwFkjZGYDa49aO16XqSNqcN'\n",
    "consumer_secret = 'gl4LQOItV7Z1aFwNrlvaiKJ3t8o8h99blMIAmnmdHxYjzjRAxO' \n",
    "access_token = '624310916-E7fDF2IE8P6bfY1oVFglASf6F8RnxMd3vgSXFqnZ'\n",
    "access_token_secret ='ID9JcoXHsDcKtvNcnmBGcCQhUlO0wmwAxBJ6LCesiUAas'\n",
    " \n",
    "auth = OAuthHandler(consumer_key, consumer_secret)\n",
    "auth.set_access_token(access_token, access_token_secret)\n",
    " \n",
    "#api = tweepy.API(auth)\n",
    "api = tweepy.API(auth, wait_on_rate_limit=True, wait_on_rate_limit_notify=True, retry_count=3, retry_delay=60)"
   ]
  },
  {
   "cell_type": "code",
   "execution_count": 2,
   "metadata": {},
   "outputs": [],
   "source": [
    "\n",
    "# empty list to store parsed tweets\n",
    "coordinates = []\n",
    "people = []\n",
    "time = []\n",
    "tweet_text = []\n",
    "fetched_tweets = api.search(q = 'Fazıl Say', count = 100)\n",
    "# parsing tweets one by one\n",
    "for tweet in fetched_tweets:\n",
    "    coordinates.append(tweet.coordinates)\n",
    "    people.append(tweet.author.name)\n",
    "    tweet_text.append(tweet.text)\n",
    "    time.append(tweet.created_at)"
   ]
  },
  {
   "cell_type": "code",
   "execution_count": 3,
   "metadata": {},
   "outputs": [
    {
     "data": {
      "text/html": [
       "<div>\n",
       "<style scoped>\n",
       "    .dataframe tbody tr th:only-of-type {\n",
       "        vertical-align: middle;\n",
       "    }\n",
       "\n",
       "    .dataframe tbody tr th {\n",
       "        vertical-align: top;\n",
       "    }\n",
       "\n",
       "    .dataframe thead th {\n",
       "        text-align: right;\n",
       "    }\n",
       "</style>\n",
       "<table border=\"1\" class=\"dataframe\">\n",
       "  <thead>\n",
       "    <tr style=\"text-align: right;\">\n",
       "      <th></th>\n",
       "      <th>people</th>\n",
       "      <th>tweets</th>\n",
       "      <th>time</th>\n",
       "    </tr>\n",
       "  </thead>\n",
       "  <tbody>\n",
       "    <tr>\n",
       "      <th>0</th>\n",
       "      <td>Recep</td>\n",
       "      <td>Spotify'da ne zaman Fazıl Say'ın radyosunu din...</td>\n",
       "      <td>2021-09-04 23:32:03</td>\n",
       "    </tr>\n",
       "    <tr>\n",
       "      <th>1</th>\n",
       "      <td>Akif Emirhan Akyel</td>\n",
       "      <td>Koreli rapçi MC Sniper ile ünlü Japon bestekâr...</td>\n",
       "      <td>2021-09-04 22:55:05</td>\n",
       "    </tr>\n",
       "    <tr>\n",
       "      <th>2</th>\n",
       "      <td>Betül</td>\n",
       "      <td>Evet bende genelde fazıl say falan dinlerim ht...</td>\n",
       "      <td>2021-09-04 22:45:15</td>\n",
       "    </tr>\n",
       "    <tr>\n",
       "      <th>3</th>\n",
       "      <td>Gökhan Serin</td>\n",
       "      <td>Güzel şeyler eskimez Fazıl Say (feat. Genco Er...</td>\n",
       "      <td>2021-09-04 22:31:08</td>\n",
       "    </tr>\n",
       "    <tr>\n",
       "      <th>4</th>\n",
       "      <td>Nihat Yıldız</td>\n",
       "      <td>RT @sadeceederyaa1: Yazıklar olsun!\\nİBB taraf...</td>\n",
       "      <td>2021-09-04 20:31:47</td>\n",
       "    </tr>\n",
       "  </tbody>\n",
       "</table>\n",
       "</div>"
      ],
      "text/plain": [
       "               people                                             tweets  \\\n",
       "0               Recep  Spotify'da ne zaman Fazıl Say'ın radyosunu din...   \n",
       "1  Akif Emirhan Akyel  Koreli rapçi MC Sniper ile ünlü Japon bestekâr...   \n",
       "2               Betül  Evet bende genelde fazıl say falan dinlerim ht...   \n",
       "3        Gökhan Serin  Güzel şeyler eskimez Fazıl Say (feat. Genco Er...   \n",
       "4        Nihat Yıldız  RT @sadeceederyaa1: Yazıklar olsun!\\nİBB taraf...   \n",
       "\n",
       "                 time  \n",
       "0 2021-09-04 23:32:03  \n",
       "1 2021-09-04 22:55:05  \n",
       "2 2021-09-04 22:45:15  \n",
       "3 2021-09-04 22:31:08  \n",
       "4 2021-09-04 20:31:47  "
      ]
     },
     "execution_count": 3,
     "metadata": {},
     "output_type": "execute_result"
    }
   ],
   "source": [
    "df = pd.DataFrame({'people': people,'tweets': tweet_text,  'time':time})\n",
    "df.head()"
   ]
  },
  {
   "cell_type": "code",
   "execution_count": 4,
   "metadata": {},
   "outputs": [
    {
     "data": {
      "text/plain": [
       "'@areerman @Sibel_Kahveci @0zgurPehlivan @mkirikkanat Fazıl say un bestesiyle güzel de bir şarkıdır.'"
      ]
     },
     "execution_count": 4,
     "metadata": {},
     "output_type": "execute_result"
    }
   ],
   "source": [
    "df.tweets[5]"
   ]
  },
  {
   "cell_type": "code",
   "execution_count": 5,
   "metadata": {},
   "outputs": [
    {
     "data": {
      "text/html": [
       "<div>\n",
       "<style scoped>\n",
       "    .dataframe tbody tr th:only-of-type {\n",
       "        vertical-align: middle;\n",
       "    }\n",
       "\n",
       "    .dataframe tbody tr th {\n",
       "        vertical-align: top;\n",
       "    }\n",
       "\n",
       "    .dataframe thead th {\n",
       "        text-align: right;\n",
       "    }\n",
       "</style>\n",
       "<table border=\"1\" class=\"dataframe\">\n",
       "  <thead>\n",
       "    <tr style=\"text-align: right;\">\n",
       "      <th></th>\n",
       "      <th>people</th>\n",
       "      <th>tweets</th>\n",
       "      <th>time</th>\n",
       "    </tr>\n",
       "  </thead>\n",
       "  <tbody>\n",
       "    <tr>\n",
       "      <th>0</th>\n",
       "      <td>Recep</td>\n",
       "      <td>Spotify'da ne zaman Fazıl Say'ın radyosunu din...</td>\n",
       "      <td>2021-09-04 23:32:03</td>\n",
       "    </tr>\n",
       "    <tr>\n",
       "      <th>1</th>\n",
       "      <td>Akif Emirhan Akyel</td>\n",
       "      <td>Koreli rapçi MC Sniper ile ünlü Japon bestekâr...</td>\n",
       "      <td>2021-09-04 22:55:05</td>\n",
       "    </tr>\n",
       "    <tr>\n",
       "      <th>2</th>\n",
       "      <td>Betül</td>\n",
       "      <td>Evet bende genelde fazıl say falan dinlerim ht...</td>\n",
       "      <td>2021-09-04 22:45:15</td>\n",
       "    </tr>\n",
       "    <tr>\n",
       "      <th>3</th>\n",
       "      <td>Gökhan Serin</td>\n",
       "      <td>Güzel şeyler eskimez Fazıl Say (feat. Genco Er...</td>\n",
       "      <td>2021-09-04 22:31:08</td>\n",
       "    </tr>\n",
       "    <tr>\n",
       "      <th>4</th>\n",
       "      <td>Nihat Yıldız</td>\n",
       "      <td>RT @sadeceederyaa1: Yazıklar olsun!\\nİBB taraf...</td>\n",
       "      <td>2021-09-04 20:31:47</td>\n",
       "    </tr>\n",
       "  </tbody>\n",
       "</table>\n",
       "</div>"
      ],
      "text/plain": [
       "               people                                             tweets  \\\n",
       "0               Recep  Spotify'da ne zaman Fazıl Say'ın radyosunu din...   \n",
       "1  Akif Emirhan Akyel  Koreli rapçi MC Sniper ile ünlü Japon bestekâr...   \n",
       "2               Betül  Evet bende genelde fazıl say falan dinlerim ht...   \n",
       "3        Gökhan Serin  Güzel şeyler eskimez Fazıl Say (feat. Genco Er...   \n",
       "4        Nihat Yıldız  RT @sadeceederyaa1: Yazıklar olsun!\\nİBB taraf...   \n",
       "\n",
       "                 time  \n",
       "0 2021-09-04 23:32:03  \n",
       "1 2021-09-04 22:55:05  \n",
       "2 2021-09-04 22:45:15  \n",
       "3 2021-09-04 22:31:08  \n",
       "4 2021-09-04 20:31:47  "
      ]
     },
     "execution_count": 5,
     "metadata": {},
     "output_type": "execute_result"
    }
   ],
   "source": [
    "df.head()"
   ]
  },
  {
   "cell_type": "markdown",
   "metadata": {},
   "source": [
    "### Rastgele Birini Seçmek"
   ]
  },
  {
   "cell_type": "code",
   "execution_count": 6,
   "metadata": {},
   "outputs": [
    {
     "data": {
      "text/plain": [
       "['beyza özay', 'Ali Öztürk']"
      ]
     },
     "execution_count": 6,
     "metadata": {},
     "output_type": "execute_result"
    }
   ],
   "source": [
    "list(np.random.choice(people,2))"
   ]
  },
  {
   "cell_type": "markdown",
   "metadata": {},
   "source": [
    "# Yaşam Koçum"
   ]
  },
  {
   "cell_type": "code",
   "execution_count": 8,
   "metadata": {},
   "outputs": [
    {
     "data": {
      "text/html": [
       "<div>\n",
       "<style scoped>\n",
       "    .dataframe tbody tr th:only-of-type {\n",
       "        vertical-align: middle;\n",
       "    }\n",
       "\n",
       "    .dataframe tbody tr th {\n",
       "        vertical-align: top;\n",
       "    }\n",
       "\n",
       "    .dataframe thead th {\n",
       "        text-align: right;\n",
       "    }\n",
       "</style>\n",
       "<table border=\"1\" class=\"dataframe\">\n",
       "  <thead>\n",
       "    <tr style=\"text-align: right;\">\n",
       "      <th></th>\n",
       "      <th>Sozler</th>\n",
       "      <th>kategori</th>\n",
       "    </tr>\n",
       "  </thead>\n",
       "  <tbody>\n",
       "    <tr>\n",
       "      <th>0</th>\n",
       "      <td>Olumlu düşünen, bütün olası dünyaların en iyis...</td>\n",
       "      <td>hayat</td>\n",
       "    </tr>\n",
       "    <tr>\n",
       "      <th>1</th>\n",
       "      <td>Bu dünyaya gelmenin sadece tek bir yolu vardır...</td>\n",
       "      <td>hayat</td>\n",
       "    </tr>\n",
       "    <tr>\n",
       "      <th>2</th>\n",
       "      <td>Birisinin ‘Hayat zor.’ diye yakındığını duyduğ...</td>\n",
       "      <td>hayat</td>\n",
       "    </tr>\n",
       "    <tr>\n",
       "      <th>3</th>\n",
       "      <td>Mutsuz olmamamız gerekir. Kimsenin hayatla bir...</td>\n",
       "      <td>hayat</td>\n",
       "    </tr>\n",
       "  </tbody>\n",
       "</table>\n",
       "</div>"
      ],
      "text/plain": [
       "                                              Sozler kategori\n",
       "0  Olumlu düşünen, bütün olası dünyaların en iyis...    hayat\n",
       "1  Bu dünyaya gelmenin sadece tek bir yolu vardır...    hayat\n",
       "2  Birisinin ‘Hayat zor.’ diye yakındığını duyduğ...    hayat\n",
       "3  Mutsuz olmamamız gerekir. Kimsenin hayatla bir...    hayat"
      ]
     },
     "execution_count": 8,
     "metadata": {},
     "output_type": "execute_result"
    }
   ],
   "source": [
    "Hayat = \"\"\"\n",
    "Olumlu düşünen, bütün olası dünyaların en iyisinde yaşadığımızı söyler ve olumsuz düşünen, bunun gerçek olmasından korkar. James Cabell\n",
    "\n",
    "Bu dünyaya gelmenin sadece tek bir yolu vardır, terk etmenin ise çok fazla yolu. Donald Harington\n",
    "\n",
    "Birisinin ‘Hayat zor.’ diye yakındığını duyduğumda, her zaman, ‘Neye kıyasla?’ diye sormayı isterim. Sidney Harris\n",
    "\n",
    "Mutsuz olmamamız gerekir. Kimsenin hayatla bir kontratı yok. DavidHeath\n",
    "\n",
    "Hayatını kazanırken yaşamasını bilmeyen bir adam, servetini kazanmadan öncesine göre daha fakirdir. Josiah Holland\n",
    "\n",
    "Yarının ne olacağını sormaktan vazgeç. Her gün, sana verilen bir hazinedir. Eline geçtikçe değerlendir. Horace\n",
    "\n",
    "Hayatınızı yaşamanın en iyi yolu, sizden sonra da kalıcı olacak şeyler için harcamaktır. William James\n",
    "\n",
    "Biz Japonlar, küçük zevklerden hoşlanırız, israftan değil. Daha fazlasını karşılayabilirse de, insanın basit bir yaşam tarzı olması kanısındayım. Massaru Ibuka\n",
    "\n",
    "Benim sanatım ve mesleğim yaşamaktır. Montaigne\n",
    "\n",
    "Hayat, çikolata ile dolu bir kutu gibidir. Ne çıkacağını asla bilemezsiniz. Forrest Gump Filmi\n",
    "\n",
    "Hayat, büyük bir sürprizdir. Ölümün neden daha büyük bir sürpriz olması gerektiğini anlayamıyorum. Vladimir Nabokov\n",
    "\"\"\"\n",
    "\n",
    "Sevgi = \"\"\"\n",
    "Karım,  benim  ‘Seni seviyorum.’  dememi binlerce kez duydu ama, hiçbir zaman ‘Üzgünüm.’ dediğimi duymadı. Bruce Willis\n",
    "\n",
    "Büyüklerine saygı, küçüklerine şevkat göstermeyenler, bizden değildir. Hz, Muhammed\n",
    "\n",
    "Sevip de kaybetmek, sevmemiş olmaktan daha iyidir. Seneca\n",
    "\n",
    "Sevgiyle düşünün, sevgiyle konuşun, sevgiyle davranın. Her ihtiyaç karşılanacaktır. James Ailen\n",
    "\n",
    "Sevgi, insanı birliğe, bencillik ise yalnızlığa götürür. Schiller\n",
    "\n",
    "Sevdiği kadını ve sevdiği işi bulan bir erkek, yeryüzünde cenneti bulmuş demektir. Helen Rowland\n",
    "\n",
    "Kızgınlık, kırgınlık ya da acıya tutunmayın. Enerjinizi çalarlar ve sizi sevmekten alıkoyarlar. Leo Buscaglia\n",
    "\n",
    "Herkes temel bir şeyi unutuyor; insanlar sizi, siz onları sevmeden sevmeyecekler. Pat Carroll\n",
    "\n",
    "Sevgi, dünyadaki yaşamın aktığı nehirdir. Henry Beecher\n",
    "\n",
    "Sevmeden verebilirsiniz ama, vermeden sevemezsiniz. Amy Carmichael\n",
    "\n",
    "\"\"\"\n",
    "\n",
    "Gayret = \"\"\"\n",
    "Dileyin verilecektir; arayın bulacaksınız; kapıyı çalın size açılacaktır.    Hz.İsa (a.s.)\n",
    "\n",
    "Damlayan su, mermeri, yürüyen de dağları deler. Ovidius\n",
    "\n",
    "Hazine, eziyet çekene gözükür.    Hz. Mevlâna\n",
    "\n",
    "Beklenen gün gelecekse, çekilen çile kutsaldır.V. Hugo\n",
    "\n",
    "Yarınlar yorgun ve bezgin kimseler değil, rahatını terk edebilen gayretli insanlara aittir. Cicero\n",
    "\n",
    "Emek olmadan, yemek olmaz.    Atasözü\n",
    "\n",
    "Kötülüğün hakim olmaması için tek şart, iyilerin gayret göstermeleridir. Kelâmı Kibar\n",
    "\n",
    "İnsan bir şeyi çok ciddi olarak arzu etmeye görsün; hiçbir şey erişilemeyecek kadar yükseklerde değildir. H. Andersen\n",
    "\n",
    "Ümitsizlik ve korkaklık, çalışma azminden yoksun insanlara göredir.  A. Mourois\n",
    "\n",
    "Bir çığlık, bir çığ meydana getirir.  Soljenitsin\n",
    "\n",
    "Kıramıyacağm zinciri, hiç olmazsa kemir. C. Şehabettin\n",
    "\n",
    "Basit bir insanın elinden geleni yapması; bilgili ve zeki bir insanın tembelliğinden çok daha değerlidir.\n",
    "\n",
    "Taşı delen, suyun kuvveti değil; dalgaların sürekliliğidir.\n",
    "\n",
    "Damlayan su, taşı deler. Ovidius\n",
    "\"\"\"\n",
    "\n",
    "\n",
    "Idare = \"\"\"\n",
    "Çok söyleyen değil, çok iş yapan yöneticiye muhtaçsınız. Hz. Ömer (r.a.)\n",
    "\n",
    "Sevginin kurduğu devleti, adalet devam ettirir. Farabi\n",
    "\n",
    "Her memleketin hakettiği bir hükümeti vardır. J. Maistere\n",
    "\n",
    "Hükümetlerin en kötüsü, suçsuzu korkutandır.\n",
    "\n",
    "Kendinizi yönetirken kafanızı, başkalarını yönetirken kalbinizi kullanın.\n",
    "\n",
    "Evi ev eden avrat, yurdu şen eden devlet. Atasözü\n",
    "\n",
    "Mal cimrilerde, silah korkanlarda, idare de zayıflarda olursa, işler bozulur. Hz. Ebubekir\n",
    "\n",
    "İnsanlar üç sınıftır: İdareciler, din alimleri ve halk. İdareciler bozulunca, geçim; alimler bozulunca, din; halk bozulunca da hak bozulur. Ebu Bekir Verrak\n",
    "\n",
    "Kendini yönet, dünyayı yönetecek gücü bulabilirsin. Plato\n",
    "\n",
    "Kötü idarecilerin başarısı, halkın ıstırabıdır.\n",
    "\n",
    "Bir memlekette ayaklar baş olursa, başlar ayaklar altında mahvolur.\n",
    "\n",
    "\"\"\"\n",
    "\n",
    "Umut = \"\"\"\n",
    "Başlangıçta fazla umut ederiz ama, sonrasında yeteri kadar değil. Joesph Roux\n",
    "\n",
    "Hayatta umutsuz durumlar yoktur,  sadece umutsuzluk besleyen insanlar vardır. Booth\n",
    "\n",
    "Şafaktan önce her yer karanlıktır. Katherine Mansfield\n",
    "\n",
    "Umut, gözle görülemeyeni görür, elle tutulamayanı hisseder ve imkansızı başarır. Anonim\n",
    "\n",
    "Büyük umutlar, büyük adamlar yaratır. Thomas Fuller\n",
    "\n",
    "Umut, fakirin ekmeğidir. Thales Miletus\n",
    "\n",
    "Kazanmayı umut etmeyen, daha baştan kaybetmiştir. Jose Olmedo\n",
    "\n",
    "Umut etmeyen, hiçbir zaman umutsuzluğa kapılmaz. George Bernard Shaw\n",
    "\n",
    "Hiçbir kış, sonsuza kadar sürmez. Hal Borland\n",
    "\n",
    "Umut, şüphe etmek daha kolayken, inanmaya devam etmektir. Anonim\n",
    "\n",
    "Umut, mutluluktan alınmış bir miktar borçtur. Joseph İoubert\n",
    "\"\"\"\n",
    "\n",
    "# Özlü sözleri toparlayalım\n",
    "Hayat = [soz for soz in Hayat.split('\\n') if soz != '']\n",
    "Sevgi = [soz for soz in Sevgi.split('\\n') if soz != '']\n",
    "Gayret = [soz for soz in Gayret.split('\\n') if soz != '']\n",
    "Idare = [soz for soz in Idare.split('\\n') if soz != '']\n",
    "Umut = [soz for soz in Umut.split('\\n') if soz != '']\n",
    "\n",
    "# Listeleri birlestirelim\n",
    "sozler = Hayat + Sevgi + Gayret + Idare + Umut\n",
    "kategori = ['hayat'] * len(Hayat) + ['sevgi'] * len(Sevgi) \\\n",
    "         + ['gayret'] * len(Gayret) + ['idare'] * len(Idare) + ['umut'] * len(Umut)\n",
    "    \n",
    "import pandas as pd\n",
    "\n",
    "# Listelerden sozluk kullanarak verimizi olusturalım\n",
    "veri = pd.DataFrame({\"Sozler\": sozler, \"kategori\":kategori})\n",
    "\n",
    "veri.head(4)"
   ]
  },
  {
   "cell_type": "code",
   "execution_count": 9,
   "metadata": {},
   "outputs": [],
   "source": [
    "import pandas as pd\n",
    "\n",
    "class yasamkocum():\n",
    "    \n",
    "    def __init__(self, veri):\n",
    "        self.veri = veri\n",
    "        \n",
    "    def benzerlik(self, A, B):\n",
    "        \"\"\"\n",
    "        Jaccard benzerligi\n",
    "        \"\"\"\n",
    "        A = [a.lower() for a in A.split()]\n",
    "        B = [b.lower() for b in B.split()]\n",
    "\n",
    "        A_kesisim_B = {a for a in A if a in B}\n",
    "        A_kesisim_B_sayisi = len(A_kesisim_B)\n",
    "        A_birlesim_B_sayisi = len(A) + len(B) - len(A_kesisim_B)\n",
    "        return A_kesisim_B_sayisi / A_birlesim_B_sayisi\n",
    "    \n",
    "    def tavsiye(self, secim = \"idare\"):\n",
    "        \"\"\"\n",
    "        Secilen kategoride rastgele tavsiye\n",
    "        \"\"\"\n",
    "        filtre = self.veri[self.veri.kategori == secim]\n",
    "        return filtre.Sozler.sample(n=1).values[0]\n",
    "    \n",
    "    def dinle_ve_tavsiye_ver(self):\n",
    "        \"\"\"\n",
    "        Kullanicidan girdi olarak bir cevap al\n",
    "          - cevap (tek kelimeyse ve) kategorilerden biri ise rastgele bir tavsiye ver\n",
    "          - cevap (uzun bir cumleyse) verimizdeki sozler ile benzerligini hesapla ve en yakin sozu dondur\n",
    "        \"\"\"\n",
    "        cevap = input(\"Merhaba insan, \\nHangi konuda tavsiye istersin?(Hayat/Sevgi/Gayret/Idare)\\n\\t Cevabiniz: \").lower()\n",
    "\n",
    "        if cevap in set(self.veri.kategori):\n",
    "            return self.tavsiye(secim = cevap)\n",
    "        else:\n",
    "            f = lambda x: self.benzerlik(x, cevap)\n",
    "            sonuc = self.veri.Sozler.apply(f)\n",
    "            # sonuc_idx = sonuc.sort_values(ascending=False).index[0]\n",
    "            return self.veri.iloc[sonuc.idxmax()].Sozler"
   ]
  },
  {
   "cell_type": "code",
   "execution_count": 10,
   "metadata": {},
   "outputs": [],
   "source": [
    "koc = yasamkocum(veri)"
   ]
  },
  {
   "cell_type": "code",
   "execution_count": 11,
   "metadata": {},
   "outputs": [
    {
     "data": {
      "text/plain": [
       "'Dileyin verilecektir; arayın bulacaksınız; kapıyı çalın size açılacaktır.    Hz.İsa (a.s.)'"
      ]
     },
     "execution_count": 11,
     "metadata": {},
     "output_type": "execute_result"
    }
   ],
   "source": [
    "koc.tavsiye(secim = \"gayret\")"
   ]
  },
  {
   "cell_type": "code",
   "execution_count": 12,
   "metadata": {},
   "outputs": [
    {
     "data": {
      "text/plain": [
       "'Kızgınlık, kırgınlık ya da acıya tutunmayın. Enerjinizi çalarlar ve sizi sevmekten alıkoyarlar. Leo Buscaglia'"
      ]
     },
     "execution_count": 12,
     "metadata": {},
     "output_type": "execute_result"
    }
   ],
   "source": [
    "koc.tavsiye(secim = \"sevgi\")"
   ]
  },
  {
   "cell_type": "code",
   "execution_count": 13,
   "metadata": {},
   "outputs": [
    {
     "name": "stdin",
     "output_type": "stream",
     "text": [
      "Merhaba insan, \n",
      "Hangi konuda tavsiye istersin?(Hayat/Sevgi/Gayret/Idare)\n",
      "\t Cevabiniz:  hayat\n"
     ]
    },
    {
     "data": {
      "text/plain": [
       "'Mutsuz olmamamız gerekir. Kimsenin hayatla bir kontratı yok. DavidHeath'"
      ]
     },
     "execution_count": 13,
     "metadata": {},
     "output_type": "execute_result"
    }
   ],
   "source": [
    "koc.dinle_ve_tavsiye_ver()"
   ]
  },
  {
   "cell_type": "code",
   "execution_count": 14,
   "metadata": {},
   "outputs": [
    {
     "name": "stdin",
     "output_type": "stream",
     "text": [
      "Merhaba insan, \n",
      "Hangi konuda tavsiye istersin?(Hayat/Sevgi/Gayret/Idare)\n",
      "\t Cevabiniz:  ben nasıl büyük adam olacağım\n"
     ]
    },
    {
     "data": {
      "text/plain": [
       "'Büyük umutlar, büyük adamlar yaratır. Thomas Fuller'"
      ]
     },
     "execution_count": 14,
     "metadata": {},
     "output_type": "execute_result"
    }
   ],
   "source": [
    "koc.dinle_ve_tavsiye_ver()"
   ]
  },
  {
   "cell_type": "markdown",
   "metadata": {},
   "source": [
    "# Genetik Algoritma ile Yol Bulma"
   ]
  },
  {
   "cell_type": "code",
   "execution_count": 15,
   "metadata": {},
   "outputs": [],
   "source": [
    "import numpy as np \n",
    "import matplotlib.pyplot as plt\n",
    "%matplotlib inline \n",
    "\n",
    "class agent():\n",
    "    def __init__(self, m = 16, \n",
    "                 start_x = 0, start_y = 2, \n",
    "                 target_x = 9, target_y = 9, \n",
    "                 possible_genes = ['up', 'right', 'left']):\n",
    "        self.x, self.y  = start_x, start_y\n",
    "        self.target_x, self.target_y = target_x, target_y\n",
    "        self.pathx, self.pathy = [start_x], [start_y]\n",
    "        \n",
    "        self.possible_genes = possible_genes\n",
    "        self.take_action = {'up': self.go_up, \n",
    "                            'left':self.go_left, \n",
    "                            'right':self.go_right}\n",
    "        \n",
    "        self.m = m\n",
    "        self.create_genotype()\n",
    "        self.phenotype()\n",
    "    \n",
    "    def go_up(self): \n",
    "        self.y = self.y +1\n",
    "    def go_left(self): \n",
    "        self.x = self.x-1\n",
    "    def go_right(self): \n",
    "        self.x = self.x+1\n",
    "\n",
    "    def create_genotype(self):\n",
    "        self.genome = np.random.choice(self.possible_genes, size = self.m)\n",
    "    \n",
    "    def set_gene(self, new_gene):\n",
    "        self.genome = new_gene\n",
    "    \n",
    "    def phenotype(self):\n",
    "        for gene in self.genome:\n",
    "            self.take_action[gene]()\n",
    "            \n",
    "            self.pathx.append(self.x)\n",
    "            self.pathy.append(self.y)\n",
    "    \n",
    "    def fitness(self):\n",
    "        error_x = (self.target_x - self.pathx[-1])\n",
    "        error_y = (self.target_y - self.pathy[-1])\n",
    "        return 1/(1 + np.sqrt(error_x**2 + error_y**2))\n",
    "    \n",
    "    def draw(self, verbose = True):\n",
    "        if verbose: print(self.genome)\n",
    "        plt.plot(self.target_x, self.target_y, 'g*', markersize=30)\n",
    "        plt.plot(self.pathx[-1], self.pathy[-1], 'r^', markersize=25)\n",
    "        plt.plot(self.pathx, self.pathy)\n",
    "        plt.axis((-2,self.target_x+2,0,self.target_y+2))\n",
    "        plt.grid()\n",
    "        \n",
    "class evolution():\n",
    "    def __init__(self, N = 10, possible_genes = ['up', 'right', 'left']):\n",
    "        self.N = N\n",
    "        self.possible_genes = possible_genes\n",
    "        \n",
    "        self.population = [agent() for i in range(N)]\n",
    "        self.fitness_values = [self.population[i].fitness() for i in range(N)]\n",
    "        \n",
    "        total_fitness = sum(self.fitness_values)\n",
    "        self.reproduction_probabiliy = [val/total_fitness for val in self.fitness_values]\n",
    "        \n",
    "        self.best_agent = self.population[np.argmax(self.fitness_values)]\n",
    "        \n",
    "    def selection(self):\n",
    "        parents = np.random.choice(self.N, size = 2, p = self.reproduction_probabiliy)\n",
    "        return parents\n",
    "    \n",
    "    def crossover(self, parent0, parent1):\n",
    "        cutoff = np.random.randint(len(parent0.genome))\n",
    "        child= np.concatenate((parent0.genome[:cutoff],parent1.genome[cutoff:]))\n",
    "        return child\n",
    "\n",
    "    def mutation(self, child):\n",
    "        mutation_point = np.random.randint(len(child.genome))\n",
    "        child.genome[mutation_point] = np.random.choice(self.possible_genes)\n",
    "        \n",
    "    def create_offspring(self):\n",
    "        parents = self.selection()\n",
    "        P0, P1 = self.population[parents[0]], self.population[parents[1]]\n",
    "        \n",
    "        child_agent = agent()\n",
    "        child_genome = self.crossover(parent0 = P0, parent1 = P1)\n",
    "        child_agent.set_gene(child_genome)\n",
    "        self.mutation(child_agent)\n",
    "        \n",
    "        return child_agent\n",
    "    \n",
    "    def create_new_population(self):\n",
    "        new_population = [self.create_offspring() for i in range(self.N-1)] + [self.best_agent]\n",
    "        self.population = new_population\n",
    "\n",
    "        self.fitness_values = [self.population[i].fitness() for i in range(self.N)]\n",
    "        total_fitness = sum(self.fitness_values)\n",
    "        self.reproduction_probabiliy = [val/total_fitness for val in self.fitness_values]\n",
    "        self.best_agent = self.population[np.argmax(self.fitness_values)]\n",
    "    \n",
    "    def evolve(self, G = 10):\n",
    "        for i in range(G):\n",
    "            self.create_new_population()\n",
    "        return self.best_agent"
   ]
  },
  {
   "cell_type": "code",
   "execution_count": 16,
   "metadata": {},
   "outputs": [
    {
     "data": {
      "image/png": "[encoded data removed]",
      "text/plain": [
       "<Figure size 432x288 with 1 Axes>"
      ]
     },
     "metadata": {
      "needs_background": "light"
     },
     "output_type": "display_data"
    }
   ],
   "source": [
    "world = evolution()\n",
    "for a in world.population:\n",
    "    a.draw(verbose = False)\n",
    "plt.grid()"
   ]
  },
  {
   "cell_type": "code",
   "execution_count": 17,
   "metadata": {},
   "outputs": [
    {
     "name": "stdout",
     "output_type": "stream",
     "text": [
      "['up' 'up' 'up' 'left' 'up' 'up' 'left' 'right' 'up' 'right' 'right'\n",
      " 'right' 'right' 'right' 'right' 'up']\n"
     ]
    },
    {
     "data": {
      "image/png": "[encoded data removed]",
      "text/plain": [
       "<Figure size 432x288 with 1 Axes>"
      ]
     },
     "metadata": {
      "needs_background": "light"
     },
     "output_type": "display_data"
    }
   ],
   "source": [
    "world.best_agent.draw()"
   ]
  },
  {
   "cell_type": "code",
   "execution_count": 18,
   "metadata": {},
   "outputs": [
    {
     "name": "stdout",
     "output_type": "stream",
     "text": [
      "['left' 'up' 'up' 'left' 'up' 'up' 'left' 'right' 'up' 'right' 'right'\n",
      " 'right' 'right' 'right' 'right' 'up']\n"
     ]
    },
    {
     "data": {
      "image/png": "[encoded data removed]",
      "text/plain": [
       "<Figure size 432x288 with 1 Axes>"
      ]
     },
     "metadata": {
      "needs_background": "light"
     },
     "output_type": "display_data"
    }
   ],
   "source": [
    "world.evolve()\n",
    "world.best_agent.draw()"
   ]
  },
  {
   "cell_type": "code",
   "execution_count": 19,
   "metadata": {},
   "outputs": [
    {
     "name": "stdout",
     "output_type": "stream",
     "text": [
      "['left' 'up' 'up' 'left' 'up' 'up' 'left' 'right' 'up' 'right' 'right'\n",
      " 'right' 'right' 'right' 'right' 'up']\n"
     ]
    },
    {
     "data": {
      "image/png": "[encoded data removed]",
      "text/plain": [
       "<Figure size 432x288 with 1 Axes>"
      ]
     },
     "metadata": {
      "needs_background": "light"
     },
     "output_type": "display_data"
    }
   ],
   "source": [
    "world.evolve()\n",
    "world.best_agent.draw()"
   ]
  },
  {
   "cell_type": "code",
   "execution_count": 20,
   "metadata": {},
   "outputs": [
    {
     "name": "stdout",
     "output_type": "stream",
     "text": [
      "['right' 'right' 'up' 'right' 'left' 'up' 'left' 'up' 'left' 'right'\n",
      " 'right' 'up' 'right' 'up' 'right' 'up']\n"
     ]
    },
    {
     "data": {
      "image/png": "[encoded data removed]",
      "text/plain": [
       "<Figure size 432x288 with 1 Axes>"
      ]
     },
     "metadata": {
      "needs_background": "light"
     },
     "output_type": "display_data"
    }
   ],
   "source": [
    "world.evolve(G = 100)\n",
    "world.best_agent.draw()"
   ]
  },
  {
   "cell_type": "code",
   "execution_count": 22,
   "metadata": {},
   "outputs": [
    {
     "name": "stdout",
     "output_type": "stream",
     "text": [
      "['up' 'right' 'left' 'up' 'up' 'right' 'left' 'left' 'left' 'right'\n",
      " 'right' 'up' 'up' 'left' 'right' 'up']\n"
     ]
    },
    {
     "data": {
      "image/png": "[encoded data removed]",
      "text/plain": [
       "<Figure size 432x288 with 1 Axes>"
      ]
     },
     "metadata": {
      "needs_background": "light"
     },
     "output_type": "display_data"
    }
   ],
   "source": [
    "world.evolve(G = 1000)\n",
    "world.best_agent.draw()"
   ]
  },
  {
   "cell_type": "code",
   "execution_count": null,
   "metadata": {},
   "outputs": [],
   "source": []
  }
 ],
 "metadata": {
  "kernelspec": {
   "display_name": "Python 3",
   "language": "python",
   "name": "python3"
  },
  "language_info": {
   "codemirror_mode": {
    "name": "ipython",
    "version": 3
   },
   "file_extension": ".py",
   "mimetype": "text/x-python",
   "name": "python",
   "nbconvert_exporter": "python",
   "pygments_lexer": "ipython3",
   "version": "3.8.5"
  }
 },
 "nbformat": 4,
 "nbformat_minor": 4
}
