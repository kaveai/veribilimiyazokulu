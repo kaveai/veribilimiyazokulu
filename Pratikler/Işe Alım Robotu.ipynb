{
 "cells": [
  {
   "cell_type": "markdown",
   "metadata": {},
   "source": [
    "# Kave Ar-Ge Sınav Soru 1\n",
    "\n",
    "## İşe alım Robotu \n",
    "\n",
    "> Burada `...` ile eksik bırakılan kod parçalarını doldurmanız gerekmektedir. Aşağıdaki bölümde işe alım robotunun nasıl çalıştığı anlatılacaktır. Başarılar dileriz.\n",
    "\n",
    "\n",
    "## Sorular\n",
    "\n",
    "Daha önce ETX şirketine başvuran 1000 adaydan 100'ü işe alınmış olsun. Her adayın 4 özelliği olsun, ama sadece iki özelliği işe alınma için gerçekten ayırt edici olsun.\n",
    "\n",
    "Özellikler\n",
    " - __Önemli__ : Social Skills, Knowledge in algorithms\n",
    " - __Önemsiz__ : GPA, Age\n",
    " \n",
    "Bu özelliklerin tümünün 0 ile 5 arasında değer aldığını kabul ediyoruz. \n",
    " \n",
    "İşe alınanlar\n",
    " - Social Skills ve Knowledge in algorithms 5 üzerinden 5e yakın rastgele sayilar\n",
    " - Diğer özellikler GPA, Age önemli değil\n",
    " \n",
    "İşe alınmayanlar ise\n",
    " - Social Skills ve Knowledge in algorithms 5 üzerinden 1e yakın rastgele sayilar\n",
    " - Diğer özellikler GPA, Age önemli değil\n",
    "\n",
    "Öncelikle bu veri setini yaratalm"
   ]
  },
  {
   "cell_type": "markdown",
   "metadata": {},
   "source": [
    "## Kutuphaneler"
   ]
  },
  {
   "cell_type": "code",
   "execution_count": 2,
   "metadata": {},
   "outputs": [],
   "source": [
    "import numpy as np\n",
    "import pandas as pd\n",
    "import matplotlib.pyplot as plt\n",
    "\n",
    "np.random.seed(2019)"
   ]
  },
  {
   "cell_type": "markdown",
   "metadata": {},
   "source": [
    "## Rastgele sayi uretme\n",
    "\n",
    "Belirlenen min ve max degeri arasinda ortalaması mu olan, standart sapması 1 olan normal dagilimdan sayi uretme."
   ]
  },
  {
   "cell_type": "code",
   "execution_count": 2,
   "metadata": {},
   "outputs": [],
   "source": [
    "def generate(mu = None, minval = 0, maxval = 5):\n",
    "    # Eger mu None ise, mu degeri minval ve maxval in ortalaması olsun\n",
    "    if mu == None: ...\n",
    "    \n",
    "    # val ortalaması mu olan, standart sapması 1 olan normal dagilimdan rastgele sayi \n",
    "    val = ...\n",
    "    \n",
    "    # Eger val, maxval'den buyukse veye minval'den kucukse, sayıyı tekrar uret\n",
    "    while ... :\n",
    "        val = ...\n",
    "    return val"
   ]
  },
  {
   "cell_type": "markdown",
   "metadata": {},
   "source": [
    "## Basarili adaylar\n",
    "\n",
    " - Basarili adaylarin onemli ozelliklerini uretelim\n",
    " \n",
    "#### İşe alınan başarılı adayların özellikleri\n",
    "\n",
    "Yukarıdaki `generate` fonksiyonu ile verimizi olusturalım.\n",
    "\n",
    " - Social Skills ve Knowledge in algorithms 5 üzerinden 5e yakın rastgele sayilar\n",
    " - Diğer özellikler GPA, Age önemli değil"
   ]
  },
  {
   "cell_type": "markdown",
   "metadata": {},
   "source": [
    "### Basarisiz Adaylar\n",
    "\n",
    "#### İşe alınmayan başarısız adayların özellikleri ise\n",
    " - Social Skills ve Knowledge in algorithms 5 üzerinden 1e yakın rastgele sayilar\n",
    " - Diğer özellikler GPA, Age önemli değil"
   ]
  },
  {
   "cell_type": "markdown",
   "metadata": {},
   "source": [
    "# Veri Setini olusturalim\n",
    "\n",
    "Başarılı Adaylar\n",
    "> Ilk yüz kişi başarılı, \n",
    " - target = 1\n",
    " - Social Skills ve Knowledge in algorithms 5 üzerinden 5e yakın rastgele sayilar\n",
    " - GPA ve AGE, 0 ve 5 arasinda rastgele sayilar\n",
    "\n",
    "Başarısız Adaylar\n",
    "> Geri kalan 900 kişi başarısız\n",
    " - target = 0\n",
    " - Social Skills ve Knowledge in algorithms 5 üzerinden 1e yakın rastgele sayilar\n",
    " - GPA ve AGE, 0 ve 5 arasinda rastgele sayilar"
   ]
  },
  {
   "cell_type": "code",
   "execution_count": 9,
   "metadata": {},
   "outputs": [],
   "source": [
    "# 1 basarili , 0 basarisiz\n",
    "target = [... for i in range(100)] + [... for i in range(900)]\n",
    "\n",
    "social_skills = ...\n",
    "algorithm_knowledge = ...\n",
    "GPA = ...\n",
    "Age = ..."
   ]
  },
  {
   "cell_type": "markdown",
   "metadata": {},
   "source": [
    "Veri dictionary'si oluşturalım ardından, verimizi pandas dataframe'e dönüştürelim"
   ]
  },
  {
   "cell_type": "code",
   "execution_count": 10,
   "metadata": {},
   "outputs": [],
   "source": [
    "datadict = {\"social\":social_skills, \"algorithm\":algorithm_knowledge, \"gpa\":GPA, \"age\":Age, \"y\":target}\n",
    "data = pd.DataFrame.from_dict(datadict)"
   ]
  },
  {
   "cell_type": "markdown",
   "metadata": {},
   "source": [
    "ilk 7 veri"
   ]
  },
  {
   "cell_type": "code",
   "execution_count": 11,
   "metadata": {},
   "outputs": [
    {
     "data": {
      "text/html": [
       "<div>\n",
       "<style scoped>\n",
       "    .dataframe tbody tr th:only-of-type {\n",
       "        vertical-align: middle;\n",
       "    }\n",
       "\n",
       "    .dataframe tbody tr th {\n",
       "        vertical-align: top;\n",
       "    }\n",
       "\n",
       "    .dataframe thead th {\n",
       "        text-align: right;\n",
       "    }\n",
       "</style>\n",
       "<table border=\"1\" class=\"dataframe\">\n",
       "  <thead>\n",
       "    <tr style=\"text-align: right;\">\n",
       "      <th></th>\n",
       "      <th>social</th>\n",
       "      <th>algorithm</th>\n",
       "      <th>gpa</th>\n",
       "      <th>age</th>\n",
       "      <th>y</th>\n",
       "    </tr>\n",
       "  </thead>\n",
       "  <tbody>\n",
       "    <tr>\n",
       "      <th>0</th>\n",
       "      <td>4.385110</td>\n",
       "      <td>3.902737</td>\n",
       "      <td>3.854389</td>\n",
       "      <td>3.462752</td>\n",
       "      <td>1</td>\n",
       "    </tr>\n",
       "    <tr>\n",
       "      <th>1</th>\n",
       "      <td>4.872397</td>\n",
       "      <td>4.127768</td>\n",
       "      <td>3.802623</td>\n",
       "      <td>3.296719</td>\n",
       "      <td>1</td>\n",
       "    </tr>\n",
       "    <tr>\n",
       "      <th>2</th>\n",
       "      <td>4.830242</td>\n",
       "      <td>4.779077</td>\n",
       "      <td>2.979467</td>\n",
       "      <td>2.291362</td>\n",
       "      <td>1</td>\n",
       "    </tr>\n",
       "    <tr>\n",
       "      <th>3</th>\n",
       "      <td>4.848431</td>\n",
       "      <td>3.396778</td>\n",
       "      <td>3.130300</td>\n",
       "      <td>3.409216</td>\n",
       "      <td>1</td>\n",
       "    </tr>\n",
       "    <tr>\n",
       "      <th>4</th>\n",
       "      <td>3.602784</td>\n",
       "      <td>4.199958</td>\n",
       "      <td>2.820921</td>\n",
       "      <td>1.815152</td>\n",
       "      <td>1</td>\n",
       "    </tr>\n",
       "    <tr>\n",
       "      <th>5</th>\n",
       "      <td>4.627760</td>\n",
       "      <td>4.607905</td>\n",
       "      <td>2.463297</td>\n",
       "      <td>2.422361</td>\n",
       "      <td>1</td>\n",
       "    </tr>\n",
       "    <tr>\n",
       "      <th>6</th>\n",
       "      <td>4.454467</td>\n",
       "      <td>2.922061</td>\n",
       "      <td>3.190793</td>\n",
       "      <td>2.284250</td>\n",
       "      <td>1</td>\n",
       "    </tr>\n",
       "  </tbody>\n",
       "</table>\n",
       "</div>"
      ],
      "text/plain": [
       "     social  algorithm       gpa       age  y\n",
       "0  4.385110   3.902737  3.854389  3.462752  1\n",
       "1  4.872397   4.127768  3.802623  3.296719  1\n",
       "2  4.830242   4.779077  2.979467  2.291362  1\n",
       "3  4.848431   3.396778  3.130300  3.409216  1\n",
       "4  3.602784   4.199958  2.820921  1.815152  1\n",
       "5  4.627760   4.607905  2.463297  2.422361  1\n",
       "6  4.454467   2.922061  3.190793  2.284250  1"
      ]
     },
     "execution_count": 11,
     "metadata": {},
     "output_type": "execute_result"
    }
   ],
   "source": [
    "data.head(7)"
   ]
  },
  {
   "cell_type": "markdown",
   "metadata": {},
   "source": [
    "son 7 veri"
   ]
  },
  {
   "cell_type": "code",
   "execution_count": 18,
   "metadata": {},
   "outputs": [
    {
     "data": {
      "text/html": [
       "<div>\n",
       "<style scoped>\n",
       "    .dataframe tbody tr th:only-of-type {\n",
       "        vertical-align: middle;\n",
       "    }\n",
       "\n",
       "    .dataframe tbody tr th {\n",
       "        vertical-align: top;\n",
       "    }\n",
       "\n",
       "    .dataframe thead th {\n",
       "        text-align: right;\n",
       "    }\n",
       "</style>\n",
       "<table border=\"1\" class=\"dataframe\">\n",
       "  <thead>\n",
       "    <tr style=\"text-align: right;\">\n",
       "      <th></th>\n",
       "      <th>social</th>\n",
       "      <th>algorithm</th>\n",
       "      <th>gpa</th>\n",
       "      <th>age</th>\n",
       "      <th>y</th>\n",
       "    </tr>\n",
       "  </thead>\n",
       "  <tbody>\n",
       "    <tr>\n",
       "      <th>993</th>\n",
       "      <td>1.051229</td>\n",
       "      <td>0.649346</td>\n",
       "      <td>1.964869</td>\n",
       "      <td>2.497692</td>\n",
       "      <td>0</td>\n",
       "    </tr>\n",
       "    <tr>\n",
       "      <th>994</th>\n",
       "      <td>1.156458</td>\n",
       "      <td>1.571579</td>\n",
       "      <td>1.562282</td>\n",
       "      <td>2.125914</td>\n",
       "      <td>0</td>\n",
       "    </tr>\n",
       "    <tr>\n",
       "      <th>995</th>\n",
       "      <td>2.390362</td>\n",
       "      <td>1.381550</td>\n",
       "      <td>4.056234</td>\n",
       "      <td>1.852760</td>\n",
       "      <td>0</td>\n",
       "    </tr>\n",
       "    <tr>\n",
       "      <th>996</th>\n",
       "      <td>1.482924</td>\n",
       "      <td>1.293336</td>\n",
       "      <td>1.071154</td>\n",
       "      <td>2.021211</td>\n",
       "      <td>0</td>\n",
       "    </tr>\n",
       "    <tr>\n",
       "      <th>997</th>\n",
       "      <td>1.529766</td>\n",
       "      <td>2.316007</td>\n",
       "      <td>4.059526</td>\n",
       "      <td>0.841697</td>\n",
       "      <td>0</td>\n",
       "    </tr>\n",
       "    <tr>\n",
       "      <th>998</th>\n",
       "      <td>1.301976</td>\n",
       "      <td>1.418044</td>\n",
       "      <td>1.525418</td>\n",
       "      <td>2.957884</td>\n",
       "      <td>0</td>\n",
       "    </tr>\n",
       "    <tr>\n",
       "      <th>999</th>\n",
       "      <td>1.340450</td>\n",
       "      <td>1.165481</td>\n",
       "      <td>3.043977</td>\n",
       "      <td>2.611555</td>\n",
       "      <td>0</td>\n",
       "    </tr>\n",
       "  </tbody>\n",
       "</table>\n",
       "</div>"
      ],
      "text/plain": [
       "       social  algorithm       gpa       age  y\n",
       "993  1.051229   0.649346  1.964869  2.497692  0\n",
       "994  1.156458   1.571579  1.562282  2.125914  0\n",
       "995  2.390362   1.381550  4.056234  1.852760  0\n",
       "996  1.482924   1.293336  1.071154  2.021211  0\n",
       "997  1.529766   2.316007  4.059526  0.841697  0\n",
       "998  1.301976   1.418044  1.525418  2.957884  0\n",
       "999  1.340450   1.165481  3.043977  2.611555  0"
      ]
     },
     "execution_count": 18,
     "metadata": {},
     "output_type": "execute_result"
    }
   ],
   "source": [
    "data.tail(7)"
   ]
  },
  {
   "cell_type": "markdown",
   "metadata": {},
   "source": [
    "Veri Özellikleri"
   ]
  },
  {
   "cell_type": "code",
   "execution_count": 17,
   "metadata": {},
   "outputs": [
    {
     "data": {
      "text/html": [
       "<div>\n",
       "<style scoped>\n",
       "    .dataframe tbody tr th:only-of-type {\n",
       "        vertical-align: middle;\n",
       "    }\n",
       "\n",
       "    .dataframe tbody tr th {\n",
       "        vertical-align: top;\n",
       "    }\n",
       "\n",
       "    .dataframe thead th {\n",
       "        text-align: right;\n",
       "    }\n",
       "</style>\n",
       "<table border=\"1\" class=\"dataframe\">\n",
       "  <thead>\n",
       "    <tr style=\"text-align: right;\">\n",
       "      <th></th>\n",
       "      <th>social</th>\n",
       "      <th>algorithm</th>\n",
       "      <th>gpa</th>\n",
       "      <th>age</th>\n",
       "      <th>y</th>\n",
       "    </tr>\n",
       "  </thead>\n",
       "  <tbody>\n",
       "    <tr>\n",
       "      <th>count</th>\n",
       "      <td>1000.000000</td>\n",
       "      <td>1000.000000</td>\n",
       "      <td>1000.000000</td>\n",
       "      <td>1000.000000</td>\n",
       "      <td>1000.00000</td>\n",
       "    </tr>\n",
       "    <tr>\n",
       "      <th>mean</th>\n",
       "      <td>1.634587</td>\n",
       "      <td>1.583033</td>\n",
       "      <td>2.479491</td>\n",
       "      <td>2.509898</td>\n",
       "      <td>0.10000</td>\n",
       "    </tr>\n",
       "    <tr>\n",
       "      <th>std</th>\n",
       "      <td>1.175837</td>\n",
       "      <td>1.154108</td>\n",
       "      <td>0.952356</td>\n",
       "      <td>0.941193</td>\n",
       "      <td>0.30015</td>\n",
       "    </tr>\n",
       "    <tr>\n",
       "      <th>min</th>\n",
       "      <td>0.015741</td>\n",
       "      <td>0.000958</td>\n",
       "      <td>0.015277</td>\n",
       "      <td>0.071247</td>\n",
       "      <td>0.00000</td>\n",
       "    </tr>\n",
       "    <tr>\n",
       "      <th>25%</th>\n",
       "      <td>0.745992</td>\n",
       "      <td>0.727022</td>\n",
       "      <td>1.791794</td>\n",
       "      <td>1.839125</td>\n",
       "      <td>0.00000</td>\n",
       "    </tr>\n",
       "    <tr>\n",
       "      <th>50%</th>\n",
       "      <td>1.424224</td>\n",
       "      <td>1.325617</td>\n",
       "      <td>2.446256</td>\n",
       "      <td>2.510756</td>\n",
       "      <td>0.00000</td>\n",
       "    </tr>\n",
       "    <tr>\n",
       "      <th>75%</th>\n",
       "      <td>2.120278</td>\n",
       "      <td>2.092198</td>\n",
       "      <td>3.187938</td>\n",
       "      <td>3.143272</td>\n",
       "      <td>0.00000</td>\n",
       "    </tr>\n",
       "    <tr>\n",
       "      <th>max</th>\n",
       "      <td>4.995576</td>\n",
       "      <td>4.984833</td>\n",
       "      <td>4.906796</td>\n",
       "      <td>4.835984</td>\n",
       "      <td>1.00000</td>\n",
       "    </tr>\n",
       "  </tbody>\n",
       "</table>\n",
       "</div>"
      ],
      "text/plain": [
       "            social    algorithm          gpa          age           y\n",
       "count  1000.000000  1000.000000  1000.000000  1000.000000  1000.00000\n",
       "mean      1.634587     1.583033     2.479491     2.509898     0.10000\n",
       "std       1.175837     1.154108     0.952356     0.941193     0.30015\n",
       "min       0.015741     0.000958     0.015277     0.071247     0.00000\n",
       "25%       0.745992     0.727022     1.791794     1.839125     0.00000\n",
       "50%       1.424224     1.325617     2.446256     2.510756     0.00000\n",
       "75%       2.120278     2.092198     3.187938     3.143272     0.00000\n",
       "max       4.995576     4.984833     4.906796     4.835984     1.00000"
      ]
     },
     "execution_count": 17,
     "metadata": {},
     "output_type": "execute_result"
    }
   ],
   "source": [
    "data.describe()"
   ]
  },
  {
   "cell_type": "markdown",
   "metadata": {},
   "source": [
    "## Veriyi kaydet"
   ]
  },
  {
   "cell_type": "code",
   "execution_count": 14,
   "metadata": {},
   "outputs": [],
   "source": [
    "data.to_csv(\"data.csv\", index=False)"
   ]
  },
  {
   "cell_type": "markdown",
   "metadata": {},
   "source": [
    "## Veriyi Oku"
   ]
  },
  {
   "cell_type": "code",
   "execution_count": 16,
   "metadata": {},
   "outputs": [],
   "source": [
    "import requests\n",
    "import io\n",
    "\n",
    "\n",
    "url = \"https://raw.githubusercontent.com/uzay00/KaVe-Egitim/master/ARGE/Sorular/1-İseAlımRobotu/data.csv\"\n",
    "s = requests.get(url).content\n",
    "data = pd.read_csv(io.StringIO(s.decode('utf-8')))"
   ]
  },
  {
   "cell_type": "markdown",
   "metadata": {},
   "source": [
    "## Veriyi Ciz"
   ]
  },
  {
   "cell_type": "code",
   "execution_count": 7,
   "metadata": {},
   "outputs": [
    {
     "data": {
      "text/plain": [
       "Text(0.5, 1.0, 'Successful Candidates')"
      ]
     },
     "execution_count": 7,
     "metadata": {},
     "output_type": "execute_result"
    },
    {
     "data": {
      "image/png": "[encoded data removed]",
      "text/plain": [
       "<Figure size 432x288 with 1 Axes>"
      ]
     },
     "metadata": {
      "needs_background": "light"
     },
     "output_type": "display_data"
    }
   ],
   "source": [
    "ax = data[data.y == 1].plot.hist(bins=12, alpha=0.5)\n",
    "plt.title(\"Successful Candidates\")"
   ]
  },
  {
   "cell_type": "code",
   "execution_count": 11,
   "metadata": {},
   "outputs": [
    {
     "data": {
      "text/plain": [
       "Text(0.5, 1.0, 'Unsuccessful Candidates')"
      ]
     },
     "execution_count": 11,
     "metadata": {},
     "output_type": "execute_result"
    },
    {
     "data": {
      "image/png": "[encoded data removed]",
      "text/plain": [
       "<Figure size 432x288 with 1 Axes>"
      ]
     },
     "metadata": {
      "needs_background": "light"
     },
     "output_type": "display_data"
    }
   ],
   "source": [
    "ax = data[...].plot.hist(bins=12, alpha=0.5)\n",
    "plt.title(\"Unsuccessful Candidates\")"
   ]
  },
  {
   "cell_type": "markdown",
   "metadata": {},
   "source": [
    "## Iki boyutlu Cizim\n",
    "Verinin sadece algoritma ve yas kategorisini cizdir"
   ]
  },
  {
   "cell_type": "code",
   "execution_count": 5,
   "metadata": {},
   "outputs": [
    {
     "data": {
      "text/plain": [
       "<matplotlib.legend.Legend at 0x10444ac50>"
      ]
     },
     "execution_count": 5,
     "metadata": {},
     "output_type": "execute_result"
    },
    {
     "data": {
      "image/png": "[encoded data removed]",
      "text/plain": [
       "<Figure size 432x288 with 1 Axes>"
      ]
     },
     "metadata": {
      "needs_background": "light"
     },
     "output_type": "display_data"
    }
   ],
   "source": [
    "plt.plot(...)\n",
    "plt.plot(...)\n",
    "plt.xlabel(\"Knowledge in Algorithms\")\n",
    "plt.ylabel(\"Age Category\")\n",
    "plt.legend()"
   ]
  },
  {
   "cell_type": "code",
   "execution_count": 19,
   "metadata": {},
   "outputs": [
    {
     "data": {
      "text/html": [
       "<div>\n",
       "<style scoped>\n",
       "    .dataframe tbody tr th:only-of-type {\n",
       "        vertical-align: middle;\n",
       "    }\n",
       "\n",
       "    .dataframe tbody tr th {\n",
       "        vertical-align: top;\n",
       "    }\n",
       "\n",
       "    .dataframe thead th {\n",
       "        text-align: right;\n",
       "    }\n",
       "</style>\n",
       "<table border=\"1\" class=\"dataframe\">\n",
       "  <thead>\n",
       "    <tr style=\"text-align: right;\">\n",
       "      <th></th>\n",
       "      <th>social</th>\n",
       "      <th>algorithm</th>\n",
       "      <th>gpa</th>\n",
       "      <th>age</th>\n",
       "      <th>y</th>\n",
       "    </tr>\n",
       "  </thead>\n",
       "  <tbody>\n",
       "    <tr>\n",
       "      <th>0</th>\n",
       "      <td>4.385110</td>\n",
       "      <td>3.902737</td>\n",
       "      <td>3.854389</td>\n",
       "      <td>3.462752</td>\n",
       "      <td>1</td>\n",
       "    </tr>\n",
       "    <tr>\n",
       "      <th>1</th>\n",
       "      <td>4.872397</td>\n",
       "      <td>4.127768</td>\n",
       "      <td>3.802623</td>\n",
       "      <td>3.296719</td>\n",
       "      <td>1</td>\n",
       "    </tr>\n",
       "    <tr>\n",
       "      <th>2</th>\n",
       "      <td>4.830242</td>\n",
       "      <td>4.779077</td>\n",
       "      <td>2.979467</td>\n",
       "      <td>2.291362</td>\n",
       "      <td>1</td>\n",
       "    </tr>\n",
       "    <tr>\n",
       "      <th>3</th>\n",
       "      <td>4.848431</td>\n",
       "      <td>3.396778</td>\n",
       "      <td>3.130300</td>\n",
       "      <td>3.409216</td>\n",
       "      <td>1</td>\n",
       "    </tr>\n",
       "    <tr>\n",
       "      <th>4</th>\n",
       "      <td>3.602784</td>\n",
       "      <td>4.199958</td>\n",
       "      <td>2.820921</td>\n",
       "      <td>1.815152</td>\n",
       "      <td>1</td>\n",
       "    </tr>\n",
       "  </tbody>\n",
       "</table>\n",
       "</div>"
      ],
      "text/plain": [
       "     social  algorithm       gpa       age  y\n",
       "0  4.385110   3.902737  3.854389  3.462752  1\n",
       "1  4.872397   4.127768  3.802623  3.296719  1\n",
       "2  4.830242   4.779077  2.979467  2.291362  1\n",
       "3  4.848431   3.396778  3.130300  3.409216  1\n",
       "4  3.602784   4.199958  2.820921  1.815152  1"
      ]
     },
     "execution_count": 19,
     "metadata": {},
     "output_type": "execute_result"
    }
   ],
   "source": [
    "data.head()"
   ]
  },
  {
   "cell_type": "markdown",
   "metadata": {},
   "source": [
    "## Veri Matrisini Olusuturalim\n",
    "\n",
    "### X \n",
    "$[1000, 4]$ boyutlu\n",
    " - Verinin ilk 4 kolonu, adaylarin bilgilerini içeriyor\n",
    "\n",
    "### y \n",
    "$[1000, 1]$ boyutlu\n",
    " - Verinin son kolonu, kabul ya da red bilgisini içeriyor\n"
   ]
  },
  {
   "cell_type": "code",
   "execution_count": 20,
   "metadata": {},
   "outputs": [],
   "source": [
    "# numpy e donustur\n",
    "M = ...\n",
    "\n",
    "# butun colonlar, son y kolonu haric\n",
    "X = M[...]\n",
    "y = M[...]"
   ]
  },
  {
   "cell_type": "code",
   "execution_count": 21,
   "metadata": {},
   "outputs": [
    {
     "data": {
      "text/plain": [
       "array([[4.38511018, 3.9027371 , 3.85438855, 3.46275234],\n",
       "       [4.87239669, 4.12776812, 3.80262297, 3.29671891],\n",
       "       [4.83024224, 4.77907697, 2.97946713, 2.29136188],\n",
       "       ...,\n",
       "       [1.52976627, 2.31600693, 4.05952622, 0.84169662],\n",
       "       [1.30197604, 1.41804449, 1.52541832, 2.95788373],\n",
       "       [1.34044951, 1.16548149, 3.0439767 , 2.61155526]])"
      ]
     },
     "execution_count": 21,
     "metadata": {},
     "output_type": "execute_result"
    }
   ],
   "source": [
    "X"
   ]
  },
  {
   "cell_type": "markdown",
   "metadata": {},
   "source": [
    "## Veriyi Normalize et"
   ]
  },
  {
   "cell_type": "code",
   "execution_count": 22,
   "metadata": {},
   "outputs": [
    {
     "data": {
      "text/plain": [
       "array([[0.87741239, 0.78288062, 0.78485057, 0.71179274],\n",
       "       [0.97526433, 0.82803244, 0.77426785, 0.67694645],\n",
       "       [0.9667993 , 0.95871564, 0.60598561, 0.46594699],\n",
       "       ...,\n",
       "       [0.30403115, 0.46450787, 0.82678799, 0.16169826],\n",
       "       [0.25828862, 0.28433434, 0.30872647, 0.60583337],\n",
       "       [0.26601447, 0.23365832, 0.61917365, 0.53314762]])"
      ]
     },
     "execution_count": 22,
     "metadata": {},
     "output_type": "execute_result"
    }
   ],
   "source": [
    "from sklearn.preprocessing import MinMaxScaler\n",
    "scaler = MinMaxScaler()\n",
    "\n",
    "# her feature (kolon) normalize ediliyor\n",
    "scaler.fit(X)\n",
    "X = scaler.transform(X)\n",
    "X"
   ]
  },
  {
   "cell_type": "markdown",
   "metadata": {},
   "source": [
    "# [Oklid Temelli] İşe Alım Algoritması\n",
    "\n",
    "yeni_adaylar matrisindeki adaylari tek tek degerlendirecegiz\n",
    " - adayi al\n",
    " - nomalize et\n",
    " - X matrisi ile Oklid mesafesini hesapla\n",
    " - en yakin k = 5 komusuyu bul\n",
    " - Bu komusularin yaridan fazlasi kabul almis ise, bu adayi da kabul et yoksa red\n",
    " \n",
    "```\n",
    "if np.mean(y[benzerler]) > 0.5:\n",
    "    print(\"kabul\")\n",
    "else:\n",
    "    print(\"red\")\n",
    "```"
   ]
  },
  {
   "cell_type": "code",
   "execution_count": 34,
   "metadata": {},
   "outputs": [],
   "source": [
    "yeni_adaylar = np.array([[5, 5, 5, 5],\n",
    "                         [5, 5, 4, 4],\n",
    "                         [5, 5, 3, 3],\n",
    "                         [5, 5, 2, 2],\n",
    "                         [5, 5, 1, 1],\n",
    "                         [5, 5, 0, 0],\n",
    "                         [0, 0, 1, 1],\n",
    "                         [0, 0, 2, 2],\n",
    "                         [0, 0, 3, 3],\n",
    "                         [0, 0, 4, 4],\n",
    "                         [0, 0, 5, 5],\n",
    "                         [1, 2, 3, 4],\n",
    "                         [1, 1, 2, 3],\n",
    "                         [1, 2, 3, 4],\n",
    "                         [2, 2, 4, 4]])"
   ]
  },
  {
   "cell_type": "code",
   "execution_count": 35,
   "metadata": {},
   "outputs": [
    {
     "data": {
      "text/plain": [
       "array([[1.00088834, 1.0030432 , 1.01905418, 1.03442284]])"
      ]
     },
     "execution_count": 35,
     "metadata": {},
     "output_type": "execute_result"
    }
   ],
   "source": [
    "i = 0\n",
    "aday = yeni_adaylar[i].reshape(1,-1)\n",
    "aday = scaler.transform(aday)\n",
    "aday"
   ]
  },
  {
   "cell_type": "code",
   "execution_count": 36,
   "metadata": {},
   "outputs": [
    {
     "data": {
      "text/plain": [
       "array([[5., 5., 5., 5.]])"
      ]
     },
     "execution_count": 36,
     "metadata": {},
     "output_type": "execute_result"
    }
   ],
   "source": [
    "scaler.inverse_transform(aday)"
   ]
  },
  {
   "cell_type": "code",
   "execution_count": 37,
   "metadata": {},
   "outputs": [],
   "source": [
    "def ise_alim(yeni = 0, k = 5):\n",
    "    # Yeni aday matrisinden adaylari sec \n",
    "    aday = ...\n",
    "    # Transfrom et\n",
    "    aday = ...\n",
    "    # X ile Farkini al\n",
    "    D = ...\n",
    "    # Farkin karesi\n",
    "    D2 = ...\n",
    "    # Oklid mesafesini hesapla\n",
    "    mesafe = ...\n",
    "    # Mesafeleri buyukten kucuge sirala, en kucuk k komsunun indeksi\n",
    "    k_komsu = mesafe.argsort()[:k]\n",
    "\n",
    "    if ...: \n",
    "        print(..., \">> Kabul\")\n",
    "    else:\n",
    "        print(..., \">>red\")"
   ]
  },
  {
   "cell_type": "code",
   "execution_count": 38,
   "metadata": {},
   "outputs": [
    {
     "name": "stdout",
     "output_type": "stream",
     "text": [
      "[[5. 5. 5. 5.]] >> Kabul\n",
      "[[5. 5. 4. 4.]] >> Kabul\n",
      "[[5. 5. 3. 3.]] >> Kabul\n",
      "[[5. 5. 2. 2.]] >> Kabul\n",
      "[[5. 5. 1. 1.]] >> Kabul\n",
      "[[5. 5. 0. 0.]] >> Kabul\n",
      "[[0. 0. 1. 1.]] >>red\n",
      "[[0. 0. 2. 2.]] >>red\n",
      "[[0. 0. 3. 3.]] >>red\n",
      "[[0. 0. 4. 4.]] >>red\n",
      "[[0. 0. 5. 5.]] >>red\n",
      "[[1. 2. 3. 4.]] >>red\n",
      "[[1. 1. 2. 3.]] >>red\n",
      "[[1. 2. 3. 4.]] >>red\n",
      "[[2. 2. 4. 4.]] >>red\n"
     ]
    }
   ],
   "source": [
    "for i in range(yeni_adaylar.shape[0]):\n",
    "    ise_alim(yeni = i, k = 5)"
   ]
  },
  {
   "cell_type": "markdown",
   "metadata": {},
   "source": [
    "# [Korelasyon Temelli] İşe Alım Algoritması\n",
    "\n",
    "yeni_adaylar matrisindeki adaylari tek tek degerlendirecegiz\n",
    " - adayi al, aday vektorunu kendi boyuna bol\n",
    " - X matrisini nomalize et, X'teki her bir satır vektörünü kendi boyuna böl \n",
    " - X matrisi ile korelasyon temelli benzerligi hesapla\n",
    " - en yakin k = 5 benzer komusuyu bul\n",
    " - Bu komusularin yaridan fazlasi kabul almis ise, bu adayi da kabul et yoksa red"
   ]
  },
  {
   "cell_type": "code",
   "execution_count": 12,
   "metadata": {},
   "outputs": [],
   "source": [
    "# vektorunu kendi boyuna bolen anonim fonksiyon\n",
    "nomalize = lambda X: X/((X**...).sum(axis = ...).reshape(...,...))**..."
   ]
  },
  {
   "cell_type": "code",
   "execution_count": 41,
   "metadata": {},
   "outputs": [
    {
     "data": {
      "text/plain": [
       "array([[0.5       , 0.5       , 0.5       , 0.5       ],\n",
       "       [0.55215763, 0.55215763, 0.4417261 , 0.4417261 ],\n",
       "       [0.60633906, 0.60633906, 0.36380344, 0.36380344],\n",
       "       [0.65653216, 0.65653216, 0.26261287, 0.26261287],\n",
       "       [0.69337525, 0.69337525, 0.13867505, 0.13867505],\n",
       "       [0.70710678, 0.70710678, 0.        , 0.        ],\n",
       "       [0.        , 0.        , 0.70710678, 0.70710678],\n",
       "       [0.        , 0.        , 0.70710678, 0.70710678],\n",
       "       [0.        , 0.        , 0.70710678, 0.70710678],\n",
       "       [0.        , 0.        , 0.70710678, 0.70710678],\n",
       "       [0.        , 0.        , 0.70710678, 0.70710678],\n",
       "       [0.18257419, 0.36514837, 0.54772256, 0.73029674],\n",
       "       [0.25819889, 0.25819889, 0.51639778, 0.77459667],\n",
       "       [0.18257419, 0.36514837, 0.54772256, 0.73029674],\n",
       "       [0.31622777, 0.31622777, 0.63245553, 0.63245553]])"
      ]
     },
     "execution_count": 41,
     "metadata": {},
     "output_type": "execute_result"
    }
   ],
   "source": [
    "A = nomalize(yeni_adaylar)\n",
    "A"
   ]
  },
  {
   "cell_type": "code",
   "execution_count": 42,
   "metadata": {},
   "outputs": [],
   "source": [
    "C = nomalize(X)"
   ]
  },
  {
   "cell_type": "code",
   "execution_count": 43,
   "metadata": {},
   "outputs": [
    {
     "data": {
      "text/plain": [
       "array([[0.55432665, 0.4946039 , 0.49584846, 0.4496924 ],\n",
       "       [0.59412961, 0.50443615, 0.47168285, 0.41239479],\n",
       "       [0.61916311, 0.61398613, 0.38808875, 0.29840442],\n",
       "       ...,\n",
       "       [0.30134204, 0.46039936, 0.81947517, 0.16026807],\n",
       "       [0.33073041, 0.36408113, 0.39531448, 0.77575047],\n",
       "       [0.29872634, 0.26239134, 0.69531359, 0.59870892]])"
      ]
     },
     "execution_count": 43,
     "metadata": {},
     "output_type": "execute_result"
    }
   ],
   "source": [
    "C"
   ]
  },
  {
   "cell_type": "code",
   "execution_count": 44,
   "metadata": {},
   "outputs": [
    {
     "data": {
      "text/plain": [
       "array([[0.9972357 , 0.99684509, 0.97999858, ..., 0.87521798, 0.88180583,\n",
       "        0.92971351],\n",
       "       [0.9913217 , 0.99710164, 0.98773382, ..., 0.84666407, 0.85218868,\n",
       "        0.90653679],\n",
       "       [0.95982121, 0.98413472, 0.99745513, ..., 0.749949  , 0.76772798,\n",
       "        0.82413243],\n",
       "       ...,\n",
       "       [0.87074232, 0.85337949, 0.81830752, ..., 0.74399905, 0.78901964,\n",
       "        0.86052781],\n",
       "       [0.93293825, 0.90093545, 0.84732883, ..., 0.98443282, 0.97637717,\n",
       "        0.96036521],\n",
       "       [0.92757009, 0.88142893, 0.8109974 , ..., 0.96769629, 0.9684256 ,\n",
       "        0.99585268]])"
      ]
     },
     "execution_count": 44,
     "metadata": {},
     "output_type": "execute_result"
    }
   ],
   "source": [
    "# C matrisi ile A matrisinin vektör çarpımını al\n",
    "B = ....dot(...)\n",
    "B"
   ]
  },
  {
   "cell_type": "markdown",
   "metadata": {},
   "source": [
    " - en yakin k = 5 benzer komusuyu bul\n",
    " - Bu komusularin yaridan fazlasi kabul almis ise, bu adayi da kabul et yoksa red"
   ]
  },
  {
   "cell_type": "code",
   "execution_count": 49,
   "metadata": {},
   "outputs": [
    {
     "data": {
      "text/plain": [
       "[(array([5, 5, 5, 5]), 'Kabul'),\n",
       " (array([5, 5, 4, 4]), 'Kabul'),\n",
       " (array([5, 5, 3, 3]), 'Kabul'),\n",
       " (array([5, 5, 2, 2]), 'Kabul'),\n",
       " (array([5, 5, 1, 1]), 'Kabul'),\n",
       " (array([5, 5, 0, 0]), 'Kabul'),\n",
       " (array([0, 0, 1, 1]), 'Red'),\n",
       " (array([0, 0, 2, 2]), 'Red'),\n",
       " (array([0, 0, 3, 3]), 'Red'),\n",
       " (array([0, 0, 4, 4]), 'Red'),\n",
       " (array([0, 0, 5, 5]), 'Red'),\n",
       " (array([1, 2, 3, 4]), 'Red'),\n",
       " (array([1, 1, 2, 3]), 'Red'),\n",
       " (array([1, 2, 3, 4]), 'Red'),\n",
       " (array([2, 2, 4, 4]), 'Red')]"
      ]
     },
     "execution_count": 49,
     "metadata": {},
     "output_type": "execute_result"
    }
   ],
   "source": [
    "alim = lambda a : \"Kabul\" if a else \"Red\"\n",
    "\n",
    "[(yeni_adaylar[i, :], alim(...) > 0.5)) for i in range(A.shape[0])]"
   ]
  }
 ],
 "metadata": {
  "kernelspec": {
   "display_name": "Python 3",
   "language": "python",
   "name": "python3"
  },
  "language_info": {
   "codemirror_mode": {
    "name": "ipython",
    "version": 3
   },
   "file_extension": ".py",
   "mimetype": "text/x-python",
   "name": "python",
   "nbconvert_exporter": "python",
   "pygments_lexer": "ipython3",
   "version": "3.6.7"
  }
 },
 "nbformat": 4,
 "nbformat_minor": 2
}
